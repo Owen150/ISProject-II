{
 "cells": [
  {
   "cell_type": "markdown",
   "id": "3ca93d1c",
   "metadata": {},
   "source": [
    "# Step 1: Loading all the Packages to be used"
   ]
  },
  {
   "cell_type": "code",
   "execution_count": 1,
   "id": "8a043e29",
   "metadata": {},
   "outputs": [],
   "source": [
    "import json #will be needed for saving preprocessing details\n",
    "import numpy as np # for data manipulation\n",
    "import pandas as pd # for data manipulation\n",
    "from sklearn.model_selection import train_test_split # will be used for data split\n",
    "from sklearn.preprocessing import LabelEncoder # for preprocessing\n",
    "from sklearn.ensemble import RandomForestClassifier # for training the algorithm\n",
    "from sklearn.ensemble import ExtraTreesClassifier # for training the algorithm\n",
    "import joblib # for saving algorithm and preprocessing objects\n",
    "from sklearn.preprocessing import StandardScaler\n",
    "from sklearn.decomposition import PCA\n",
    "from sklearn.metrics import accuracy_score\n",
    "from sklearn.metrics import precision_score\n",
    "from sklearn.metrics import recall_score\n",
    "from sklearn.metrics import f1_score\n",
    "from sklearn.model_selection import learning_curve"
   ]
  },
  {
   "cell_type": "markdown",
   "id": "22767c1c",
   "metadata": {},
   "source": [
    "# Step 2: Having a suitable real world dataset"
   ]
  },
  {
   "cell_type": "code",
   "execution_count": 2,
   "id": "76886e0a",
   "metadata": {
    "scrolled": true
   },
   "outputs": [
    {
     "data": {
      "text/html": [
       "<div>\n",
       "<style scoped>\n",
       "    .dataframe tbody tr th:only-of-type {\n",
       "        vertical-align: middle;\n",
       "    }\n",
       "\n",
       "    .dataframe tbody tr th {\n",
       "        vertical-align: top;\n",
       "    }\n",
       "\n",
       "    .dataframe thead th {\n",
       "        text-align: right;\n",
       "    }\n",
       "</style>\n",
       "<table border=\"1\" class=\"dataframe\">\n",
       "  <thead>\n",
       "    <tr style=\"text-align: right;\">\n",
       "      <th></th>\n",
       "      <th>Destination_Port</th>\n",
       "      <th>Flow_Duration</th>\n",
       "      <th>Total_Fwd_Packets</th>\n",
       "      <th>Total_Backward_Packets</th>\n",
       "      <th>Total_Length_of_Fwd_Packets</th>\n",
       "      <th>Total_Length_of_Bwd_Packets</th>\n",
       "      <th>Fwd_Packet_Length_Max</th>\n",
       "      <th>Fwd_Packet_Length_Min</th>\n",
       "      <th>Fwd_Packet_Length_Mean</th>\n",
       "      <th>Fwd_Packet_Length_Std</th>\n",
       "      <th>...</th>\n",
       "      <th>min_seg_size_forward</th>\n",
       "      <th>Active_Mean</th>\n",
       "      <th>Active_Std</th>\n",
       "      <th>Active_Max</th>\n",
       "      <th>Active_Min</th>\n",
       "      <th>Idle_Mean</th>\n",
       "      <th>Idle_Std</th>\n",
       "      <th>Idle_Max</th>\n",
       "      <th>Idle_Min</th>\n",
       "      <th>Label</th>\n",
       "    </tr>\n",
       "  </thead>\n",
       "  <tbody>\n",
       "    <tr>\n",
       "      <th>0</th>\n",
       "      <td>80</td>\n",
       "      <td>101168794</td>\n",
       "      <td>20</td>\n",
       "      <td>1</td>\n",
       "      <td>969</td>\n",
       "      <td>0</td>\n",
       "      <td>353</td>\n",
       "      <td>0</td>\n",
       "      <td>48.45</td>\n",
       "      <td>119.083551</td>\n",
       "      <td>...</td>\n",
       "      <td>0</td>\n",
       "      <td>739228.5</td>\n",
       "      <td>743103.4661</td>\n",
       "      <td>1264682</td>\n",
       "      <td>213775</td>\n",
       "      <td>49700000.0</td>\n",
       "      <td>41400000.0</td>\n",
       "      <td>79000000</td>\n",
       "      <td>20500000</td>\n",
       "      <td>DoS</td>\n",
       "    </tr>\n",
       "    <tr>\n",
       "      <th>1</th>\n",
       "      <td>60711</td>\n",
       "      <td>58</td>\n",
       "      <td>1</td>\n",
       "      <td>1</td>\n",
       "      <td>0</td>\n",
       "      <td>0</td>\n",
       "      <td>0</td>\n",
       "      <td>0</td>\n",
       "      <td>0.00</td>\n",
       "      <td>0.000000</td>\n",
       "      <td>...</td>\n",
       "      <td>32</td>\n",
       "      <td>0.0</td>\n",
       "      <td>0.0000</td>\n",
       "      <td>0</td>\n",
       "      <td>0</td>\n",
       "      <td>0.0</td>\n",
       "      <td>0.0</td>\n",
       "      <td>0</td>\n",
       "      <td>0</td>\n",
       "      <td>BENIGN</td>\n",
       "    </tr>\n",
       "    <tr>\n",
       "      <th>2</th>\n",
       "      <td>53</td>\n",
       "      <td>31146</td>\n",
       "      <td>4</td>\n",
       "      <td>2</td>\n",
       "      <td>148</td>\n",
       "      <td>244</td>\n",
       "      <td>37</td>\n",
       "      <td>37</td>\n",
       "      <td>37.00</td>\n",
       "      <td>0.000000</td>\n",
       "      <td>...</td>\n",
       "      <td>20</td>\n",
       "      <td>0.0</td>\n",
       "      <td>0.0000</td>\n",
       "      <td>0</td>\n",
       "      <td>0</td>\n",
       "      <td>0.0</td>\n",
       "      <td>0.0</td>\n",
       "      <td>0</td>\n",
       "      <td>0</td>\n",
       "      <td>BENIGN</td>\n",
       "    </tr>\n",
       "    <tr>\n",
       "      <th>3</th>\n",
       "      <td>80</td>\n",
       "      <td>254704</td>\n",
       "      <td>3</td>\n",
       "      <td>4</td>\n",
       "      <td>429</td>\n",
       "      <td>389</td>\n",
       "      <td>423</td>\n",
       "      <td>0</td>\n",
       "      <td>143.00</td>\n",
       "      <td>242.505670</td>\n",
       "      <td>...</td>\n",
       "      <td>20</td>\n",
       "      <td>0.0</td>\n",
       "      <td>0.0000</td>\n",
       "      <td>0</td>\n",
       "      <td>0</td>\n",
       "      <td>0.0</td>\n",
       "      <td>0.0</td>\n",
       "      <td>0</td>\n",
       "      <td>0</td>\n",
       "      <td>BENIGN</td>\n",
       "    </tr>\n",
       "  </tbody>\n",
       "</table>\n",
       "<p>4 rows × 78 columns</p>\n",
       "</div>"
      ],
      "text/plain": [
       "   Destination_Port  Flow_Duration  Total_Fwd_Packets  Total_Backward_Packets  \\\n",
       "0                80      101168794                 20                       1   \n",
       "1             60711             58                  1                       1   \n",
       "2                53          31146                  4                       2   \n",
       "3                80         254704                  3                       4   \n",
       "\n",
       "   Total_Length_of_Fwd_Packets  Total_Length_of_Bwd_Packets  \\\n",
       "0                          969                            0   \n",
       "1                            0                            0   \n",
       "2                          148                          244   \n",
       "3                          429                          389   \n",
       "\n",
       "   Fwd_Packet_Length_Max  Fwd_Packet_Length_Min  Fwd_Packet_Length_Mean  \\\n",
       "0                    353                      0                   48.45   \n",
       "1                      0                      0                    0.00   \n",
       "2                     37                     37                   37.00   \n",
       "3                    423                      0                  143.00   \n",
       "\n",
       "   Fwd_Packet_Length_Std  ...  min_seg_size_forward  Active_Mean   Active_Std  \\\n",
       "0             119.083551  ...                     0     739228.5  743103.4661   \n",
       "1               0.000000  ...                    32          0.0       0.0000   \n",
       "2               0.000000  ...                    20          0.0       0.0000   \n",
       "3             242.505670  ...                    20          0.0       0.0000   \n",
       "\n",
       "   Active_Max  Active_Min   Idle_Mean    Idle_Std  Idle_Max  Idle_Min   Label  \n",
       "0     1264682      213775  49700000.0  41400000.0  79000000  20500000     DoS  \n",
       "1           0           0         0.0         0.0         0         0  BENIGN  \n",
       "2           0           0         0.0         0.0         0         0  BENIGN  \n",
       "3           0           0         0.0         0.0         0         0  BENIGN  \n",
       "\n",
       "[4 rows x 78 columns]"
      ]
     },
     "execution_count": 2,
     "metadata": {},
     "output_type": "execute_result"
    }
   ],
   "source": [
    "data= pd.read_csv(r'C:\\Users\\Michael Owen\\OneDrive\\Desktop\\Datasets\\train_mosaic.csv')\n",
    "#Load dataset\n",
    "data.head(4)"
   ]
  },
  {
   "cell_type": "markdown",
   "id": "557d3d26",
   "metadata": {},
   "source": [
    "# Step 3: Data Preprocessing/Cleaning"
   ]
  },
  {
   "cell_type": "code",
   "execution_count": 3,
   "id": "6c4b56cf",
   "metadata": {},
   "outputs": [
    {
     "data": {
      "text/plain": [
       "(809361, 78)"
      ]
     },
     "execution_count": 3,
     "metadata": {},
     "output_type": "execute_result"
    }
   ],
   "source": [
    "data.shape"
   ]
  },
  {
   "cell_type": "code",
   "execution_count": 4,
   "id": "cd1ebcff",
   "metadata": {},
   "outputs": [
    {
     "data": {
      "text/plain": [
       "78"
      ]
     },
     "execution_count": 4,
     "metadata": {},
     "output_type": "execute_result"
    }
   ],
   "source": [
    "original_features=list(data.columns)\n",
    "len(original_features)"
   ]
  },
  {
   "cell_type": "code",
   "execution_count": 5,
   "id": "142b6206",
   "metadata": {},
   "outputs": [
    {
     "data": {
      "text/plain": [
       "0"
      ]
     },
     "execution_count": 5,
     "metadata": {},
     "output_type": "execute_result"
    }
   ],
   "source": [
    "features_missing_values=list(data.columns[data.isna().any()])\n",
    "len(features_missing_values)"
   ]
  },
  {
   "cell_type": "code",
   "execution_count": 6,
   "id": "4892f05d",
   "metadata": {},
   "outputs": [
    {
     "data": {
      "text/plain": [
       "809361"
      ]
     },
     "execution_count": 6,
     "metadata": {},
     "output_type": "execute_result"
    }
   ],
   "source": [
    "len(data)"
   ]
  },
  {
   "cell_type": "markdown",
   "id": "b9f323f0",
   "metadata": {},
   "source": [
    "# Step 4: Encoding the Dataset"
   ]
  },
  {
   "cell_type": "code",
   "execution_count": 7,
   "id": "62e48650",
   "metadata": {},
   "outputs": [
    {
     "data": {
      "text/plain": [
       "['Label']"
      ]
     },
     "execution_count": 7,
     "metadata": {},
     "output_type": "execute_result"
    }
   ],
   "source": [
    "categorical_features=list(data.select_dtypes(include=['object']).columns)\n",
    "categorical_features"
   ]
  },
  {
   "cell_type": "code",
   "execution_count": 8,
   "id": "68924178",
   "metadata": {},
   "outputs": [
    {
     "data": {
      "text/plain": [
       "['CWE_Flag_Count',\n",
       " 'Total_Fwd_Packets',\n",
       " 'Bwd_IAT_Max',\n",
       " 'Bwd_Header_Length',\n",
       " 'Min_Packet_Length',\n",
       " 'Idle_Max',\n",
       " 'Fwd_Packet_Length_Mean',\n",
       " 'Fwd_IAT_Std',\n",
       " 'Bwd_URG_Flags',\n",
       " 'RST_Flag_Count',\n",
       " 'Init_Win_bytes_forward',\n",
       " 'Active_Max',\n",
       " 'Bwd_IAT_Std',\n",
       " 'Subflow_Bwd_Bytes',\n",
       " 'Bwd_Packets_Sec',\n",
       " 'Flow_Duration',\n",
       " 'Init_Win_bytes_backward',\n",
       " 'Fwd_Packet_Length_Min',\n",
       " 'Bwd_Packet_Length_Min',\n",
       " 'Packet_Length_Std',\n",
       " 'FIN_Flag_Count',\n",
       " 'Avg_Bwd_Segment_Size',\n",
       " 'min_seg_size_forward',\n",
       " 'Flow_Packets_Sec',\n",
       " 'SYN_Flag_Count',\n",
       " 'Bwd_Avg_Bulk_Rate',\n",
       " 'Idle_Min',\n",
       " 'Down_Up_Ratio',\n",
       " 'Flow_IAT_Mean',\n",
       " 'Bwd_IAT_Total',\n",
       " 'Flow_Bytes_Sec',\n",
       " 'Flow_IAT_Min',\n",
       " 'Fwd_Packet_Length_Std',\n",
       " 'URG_Flag_Count',\n",
       " 'Fwd_Avg_Bulk_Rate',\n",
       " 'Bwd_Packet_Length_Mean',\n",
       " 'Fwd_URG_Flags',\n",
       " 'Destination_Port',\n",
       " 'Packet_Length_Variance',\n",
       " 'Fwd_IAT_Min',\n",
       " 'act_data_pkt_fwd',\n",
       " 'Bwd_Packet_Length_Std',\n",
       " 'Fwd_IAT_Total',\n",
       " 'Fwd_Avg_Packets_Bulk',\n",
       " 'Subflow_Bwd_Packets',\n",
       " 'Avg_Fwd_Segment_Size',\n",
       " 'Average_Packet_Size',\n",
       " 'Bwd_PSH_Flags',\n",
       " 'Fwd_IAT_Max',\n",
       " 'Bwd_Packet_Length_Max',\n",
       " 'Bwd_IAT_Mean',\n",
       " 'PSH_Flag_Count',\n",
       " 'Active_Mean',\n",
       " 'ACK_Flag_Count',\n",
       " 'Active_Std',\n",
       " 'Packet_Length_Mean',\n",
       " 'Bwd_Avg_Bytes_Bulk',\n",
       " 'Total_Backward_Packets',\n",
       " 'Bwd_IAT_Min',\n",
       " 'Total_Length_of_Bwd_Packets',\n",
       " 'Flow_IAT_Std',\n",
       " 'Bwd_Avg_Packets_Bulk',\n",
       " 'Fwd_IAT_Mean',\n",
       " 'Subflow_Fwd_Packets',\n",
       " 'Total_Length_of_Fwd_Packets',\n",
       " 'Fwd_Header_Length',\n",
       " 'Active_Min',\n",
       " 'ECE_Flag_Count',\n",
       " 'Fwd_Packets_Sec',\n",
       " 'Fwd_Packet_Length_Max',\n",
       " 'Subflow_Fwd_Bytes',\n",
       " 'Max_Packet_Length',\n",
       " 'Idle_Mean',\n",
       " 'Flow_IAT_Max',\n",
       " 'Fwd_PSH_Flags',\n",
       " 'Fwd_Avg_Bytes_Bulk',\n",
       " 'Idle_Std']"
      ]
     },
     "execution_count": 8,
     "metadata": {},
     "output_type": "execute_result"
    }
   ],
   "source": [
    "numerical=list(set(original_features)-set(categorical_features))\n",
    "numerical"
   ]
  },
  {
   "cell_type": "code",
   "execution_count": 9,
   "id": "8c110238",
   "metadata": {},
   "outputs": [],
   "source": [
    "encoders = {}\n",
    "for column in ['Label']:\n",
    "    categorical_convert = LabelEncoder()"
   ]
  },
  {
   "cell_type": "code",
   "execution_count": 10,
   "id": "f600f00c",
   "metadata": {},
   "outputs": [],
   "source": [
    "nominal=['Label']\n",
    "ordinal=list(set(categorical_features)-set(nominal))"
   ]
  },
  {
   "cell_type": "code",
   "execution_count": 11,
   "id": "94644df3",
   "metadata": {},
   "outputs": [],
   "source": [
    "df_nominal=pd.get_dummies(data[nominal])"
   ]
  },
  {
   "cell_type": "code",
   "execution_count": 12,
   "id": "cce1f6a6",
   "metadata": {},
   "outputs": [],
   "source": [
    "target=['Label']"
   ]
  },
  {
   "cell_type": "code",
   "execution_count": 13,
   "id": "99f970b6",
   "metadata": {},
   "outputs": [],
   "source": [
    "for feature in ordinal:\n",
    "  data[feature]=data[feature].astype('category').cat.codes\n",
    "\n",
    "df_ordinal=data[ordinal]"
   ]
  },
  {
   "cell_type": "code",
   "execution_count": 14,
   "id": "1759534b",
   "metadata": {},
   "outputs": [
    {
     "data": {
      "text/html": [
       "<div>\n",
       "<style scoped>\n",
       "    .dataframe tbody tr th:only-of-type {\n",
       "        vertical-align: middle;\n",
       "    }\n",
       "\n",
       "    .dataframe tbody tr th {\n",
       "        vertical-align: top;\n",
       "    }\n",
       "\n",
       "    .dataframe thead th {\n",
       "        text-align: right;\n",
       "    }\n",
       "</style>\n",
       "<table border=\"1\" class=\"dataframe\">\n",
       "  <thead>\n",
       "    <tr style=\"text-align: right;\">\n",
       "      <th></th>\n",
       "      <th>CWE_Flag_Count</th>\n",
       "      <th>Total_Fwd_Packets</th>\n",
       "      <th>Bwd_IAT_Max</th>\n",
       "      <th>Bwd_Header_Length</th>\n",
       "      <th>Min_Packet_Length</th>\n",
       "      <th>Idle_Max</th>\n",
       "      <th>Fwd_Packet_Length_Mean</th>\n",
       "      <th>Fwd_IAT_Std</th>\n",
       "      <th>Bwd_URG_Flags</th>\n",
       "      <th>RST_Flag_Count</th>\n",
       "      <th>...</th>\n",
       "      <th>ECE_Flag_Count</th>\n",
       "      <th>Fwd_Packets_Sec</th>\n",
       "      <th>Fwd_Packet_Length_Max</th>\n",
       "      <th>Subflow_Fwd_Bytes</th>\n",
       "      <th>Max_Packet_Length</th>\n",
       "      <th>Idle_Mean</th>\n",
       "      <th>Flow_IAT_Max</th>\n",
       "      <th>Fwd_PSH_Flags</th>\n",
       "      <th>Fwd_Avg_Bytes_Bulk</th>\n",
       "      <th>Idle_Std</th>\n",
       "    </tr>\n",
       "  </thead>\n",
       "  <tbody>\n",
       "    <tr>\n",
       "      <th>0</th>\n",
       "      <td>0</td>\n",
       "      <td>20</td>\n",
       "      <td>0</td>\n",
       "      <td>40</td>\n",
       "      <td>0</td>\n",
       "      <td>79000000</td>\n",
       "      <td>48.450000</td>\n",
       "      <td>1.840000e+07</td>\n",
       "      <td>0</td>\n",
       "      <td>0</td>\n",
       "      <td>...</td>\n",
       "      <td>0</td>\n",
       "      <td>0.197689</td>\n",
       "      <td>353</td>\n",
       "      <td>969</td>\n",
       "      <td>353</td>\n",
       "      <td>49700000.00</td>\n",
       "      <td>79000000</td>\n",
       "      <td>0</td>\n",
       "      <td>0</td>\n",
       "      <td>4.140000e+07</td>\n",
       "    </tr>\n",
       "    <tr>\n",
       "      <th>1</th>\n",
       "      <td>0</td>\n",
       "      <td>1</td>\n",
       "      <td>0</td>\n",
       "      <td>32</td>\n",
       "      <td>0</td>\n",
       "      <td>0</td>\n",
       "      <td>0.000000</td>\n",
       "      <td>0.000000e+00</td>\n",
       "      <td>0</td>\n",
       "      <td>0</td>\n",
       "      <td>...</td>\n",
       "      <td>0</td>\n",
       "      <td>17241.379310</td>\n",
       "      <td>0</td>\n",
       "      <td>0</td>\n",
       "      <td>0</td>\n",
       "      <td>0.00</td>\n",
       "      <td>58</td>\n",
       "      <td>0</td>\n",
       "      <td>0</td>\n",
       "      <td>0.000000e+00</td>\n",
       "    </tr>\n",
       "    <tr>\n",
       "      <th>2</th>\n",
       "      <td>0</td>\n",
       "      <td>4</td>\n",
       "      <td>1</td>\n",
       "      <td>40</td>\n",
       "      <td>37</td>\n",
       "      <td>0</td>\n",
       "      <td>37.000000</td>\n",
       "      <td>1.743482e+04</td>\n",
       "      <td>0</td>\n",
       "      <td>0</td>\n",
       "      <td>...</td>\n",
       "      <td>0</td>\n",
       "      <td>128.427406</td>\n",
       "      <td>37</td>\n",
       "      <td>148</td>\n",
       "      <td>122</td>\n",
       "      <td>0.00</td>\n",
       "      <td>30200</td>\n",
       "      <td>0</td>\n",
       "      <td>0</td>\n",
       "      <td>0.000000e+00</td>\n",
       "    </tr>\n",
       "    <tr>\n",
       "      <th>3</th>\n",
       "      <td>0</td>\n",
       "      <td>3</td>\n",
       "      <td>130438</td>\n",
       "      <td>88</td>\n",
       "      <td>0</td>\n",
       "      <td>0</td>\n",
       "      <td>143.000000</td>\n",
       "      <td>8.303272e+04</td>\n",
       "      <td>0</td>\n",
       "      <td>0</td>\n",
       "      <td>...</td>\n",
       "      <td>0</td>\n",
       "      <td>11.778378</td>\n",
       "      <td>423</td>\n",
       "      <td>429</td>\n",
       "      <td>423</td>\n",
       "      <td>0.00</td>\n",
       "      <td>123916</td>\n",
       "      <td>0</td>\n",
       "      <td>0</td>\n",
       "      <td>0.000000e+00</td>\n",
       "    </tr>\n",
       "    <tr>\n",
       "      <th>4</th>\n",
       "      <td>0</td>\n",
       "      <td>12</td>\n",
       "      <td>11049530</td>\n",
       "      <td>332</td>\n",
       "      <td>0</td>\n",
       "      <td>0</td>\n",
       "      <td>419.166667</td>\n",
       "      <td>6.855032e+04</td>\n",
       "      <td>0</td>\n",
       "      <td>0</td>\n",
       "      <td>...</td>\n",
       "      <td>0</td>\n",
       "      <td>1.005692</td>\n",
       "      <td>1525</td>\n",
       "      <td>5030</td>\n",
       "      <td>1793</td>\n",
       "      <td>0.00</td>\n",
       "      <td>11049290</td>\n",
       "      <td>0</td>\n",
       "      <td>0</td>\n",
       "      <td>0.000000e+00</td>\n",
       "    </tr>\n",
       "    <tr>\n",
       "      <th>...</th>\n",
       "      <td>...</td>\n",
       "      <td>...</td>\n",
       "      <td>...</td>\n",
       "      <td>...</td>\n",
       "      <td>...</td>\n",
       "      <td>...</td>\n",
       "      <td>...</td>\n",
       "      <td>...</td>\n",
       "      <td>...</td>\n",
       "      <td>...</td>\n",
       "      <td>...</td>\n",
       "      <td>...</td>\n",
       "      <td>...</td>\n",
       "      <td>...</td>\n",
       "      <td>...</td>\n",
       "      <td>...</td>\n",
       "      <td>...</td>\n",
       "      <td>...</td>\n",
       "      <td>...</td>\n",
       "      <td>...</td>\n",
       "      <td>...</td>\n",
       "    </tr>\n",
       "    <tr>\n",
       "      <th>809356</th>\n",
       "      <td>0</td>\n",
       "      <td>10</td>\n",
       "      <td>0</td>\n",
       "      <td>40</td>\n",
       "      <td>0</td>\n",
       "      <td>26048320</td>\n",
       "      <td>23.300000</td>\n",
       "      <td>1.137151e+07</td>\n",
       "      <td>0</td>\n",
       "      <td>0</td>\n",
       "      <td>...</td>\n",
       "      <td>0</td>\n",
       "      <td>0.146720</td>\n",
       "      <td>168</td>\n",
       "      <td>233</td>\n",
       "      <td>168</td>\n",
       "      <td>22553695.33</td>\n",
       "      <td>26048320</td>\n",
       "      <td>0</td>\n",
       "      <td>0</td>\n",
       "      <td>3.499753e+06</td>\n",
       "    </tr>\n",
       "    <tr>\n",
       "      <th>809357</th>\n",
       "      <td>0</td>\n",
       "      <td>7</td>\n",
       "      <td>0</td>\n",
       "      <td>40</td>\n",
       "      <td>0</td>\n",
       "      <td>0</td>\n",
       "      <td>49.142857</td>\n",
       "      <td>5.380612e+04</td>\n",
       "      <td>0</td>\n",
       "      <td>0</td>\n",
       "      <td>...</td>\n",
       "      <td>0</td>\n",
       "      <td>40.320723</td>\n",
       "      <td>344</td>\n",
       "      <td>344</td>\n",
       "      <td>344</td>\n",
       "      <td>0.00</td>\n",
       "      <td>137216</td>\n",
       "      <td>0</td>\n",
       "      <td>0</td>\n",
       "      <td>0.000000e+00</td>\n",
       "    </tr>\n",
       "    <tr>\n",
       "      <th>809358</th>\n",
       "      <td>0</td>\n",
       "      <td>7</td>\n",
       "      <td>0</td>\n",
       "      <td>40</td>\n",
       "      <td>0</td>\n",
       "      <td>37133731</td>\n",
       "      <td>30.000000</td>\n",
       "      <td>1.575375e+07</td>\n",
       "      <td>0</td>\n",
       "      <td>0</td>\n",
       "      <td>...</td>\n",
       "      <td>0</td>\n",
       "      <td>0.113042</td>\n",
       "      <td>168</td>\n",
       "      <td>210</td>\n",
       "      <td>168</td>\n",
       "      <td>29688734.00</td>\n",
       "      <td>37133731</td>\n",
       "      <td>0</td>\n",
       "      <td>0</td>\n",
       "      <td>1.052882e+07</td>\n",
       "    </tr>\n",
       "    <tr>\n",
       "      <th>809359</th>\n",
       "      <td>0</td>\n",
       "      <td>2</td>\n",
       "      <td>4</td>\n",
       "      <td>40</td>\n",
       "      <td>44</td>\n",
       "      <td>0</td>\n",
       "      <td>44.000000</td>\n",
       "      <td>0.000000e+00</td>\n",
       "      <td>0</td>\n",
       "      <td>0</td>\n",
       "      <td>...</td>\n",
       "      <td>0</td>\n",
       "      <td>2688.172043</td>\n",
       "      <td>44</td>\n",
       "      <td>88</td>\n",
       "      <td>100</td>\n",
       "      <td>0.00</td>\n",
       "      <td>692</td>\n",
       "      <td>0</td>\n",
       "      <td>0</td>\n",
       "      <td>0.000000e+00</td>\n",
       "    </tr>\n",
       "    <tr>\n",
       "      <th>809360</th>\n",
       "      <td>0</td>\n",
       "      <td>10</td>\n",
       "      <td>0</td>\n",
       "      <td>40</td>\n",
       "      <td>0</td>\n",
       "      <td>0</td>\n",
       "      <td>30.500000</td>\n",
       "      <td>5.429712e+04</td>\n",
       "      <td>0</td>\n",
       "      <td>0</td>\n",
       "      <td>...</td>\n",
       "      <td>0</td>\n",
       "      <td>50.775082</td>\n",
       "      <td>305</td>\n",
       "      <td>305</td>\n",
       "      <td>305</td>\n",
       "      <td>0.00</td>\n",
       "      <td>164986</td>\n",
       "      <td>0</td>\n",
       "      <td>0</td>\n",
       "      <td>0.000000e+00</td>\n",
       "    </tr>\n",
       "  </tbody>\n",
       "</table>\n",
       "<p>809361 rows × 77 columns</p>\n",
       "</div>"
      ],
      "text/plain": [
       "        CWE_Flag_Count  Total_Fwd_Packets  Bwd_IAT_Max  Bwd_Header_Length  \\\n",
       "0                    0                 20            0                 40   \n",
       "1                    0                  1            0                 32   \n",
       "2                    0                  4            1                 40   \n",
       "3                    0                  3       130438                 88   \n",
       "4                    0                 12     11049530                332   \n",
       "...                ...                ...          ...                ...   \n",
       "809356               0                 10            0                 40   \n",
       "809357               0                  7            0                 40   \n",
       "809358               0                  7            0                 40   \n",
       "809359               0                  2            4                 40   \n",
       "809360               0                 10            0                 40   \n",
       "\n",
       "        Min_Packet_Length  Idle_Max  Fwd_Packet_Length_Mean   Fwd_IAT_Std  \\\n",
       "0                       0  79000000               48.450000  1.840000e+07   \n",
       "1                       0         0                0.000000  0.000000e+00   \n",
       "2                      37         0               37.000000  1.743482e+04   \n",
       "3                       0         0              143.000000  8.303272e+04   \n",
       "4                       0         0              419.166667  6.855032e+04   \n",
       "...                   ...       ...                     ...           ...   \n",
       "809356                  0  26048320               23.300000  1.137151e+07   \n",
       "809357                  0         0               49.142857  5.380612e+04   \n",
       "809358                  0  37133731               30.000000  1.575375e+07   \n",
       "809359                 44         0               44.000000  0.000000e+00   \n",
       "809360                  0         0               30.500000  5.429712e+04   \n",
       "\n",
       "        Bwd_URG_Flags  RST_Flag_Count  ...  ECE_Flag_Count  Fwd_Packets_Sec  \\\n",
       "0                   0               0  ...               0         0.197689   \n",
       "1                   0               0  ...               0     17241.379310   \n",
       "2                   0               0  ...               0       128.427406   \n",
       "3                   0               0  ...               0        11.778378   \n",
       "4                   0               0  ...               0         1.005692   \n",
       "...               ...             ...  ...             ...              ...   \n",
       "809356              0               0  ...               0         0.146720   \n",
       "809357              0               0  ...               0        40.320723   \n",
       "809358              0               0  ...               0         0.113042   \n",
       "809359              0               0  ...               0      2688.172043   \n",
       "809360              0               0  ...               0        50.775082   \n",
       "\n",
       "        Fwd_Packet_Length_Max  Subflow_Fwd_Bytes  Max_Packet_Length  \\\n",
       "0                         353                969                353   \n",
       "1                           0                  0                  0   \n",
       "2                          37                148                122   \n",
       "3                         423                429                423   \n",
       "4                        1525               5030               1793   \n",
       "...                       ...                ...                ...   \n",
       "809356                    168                233                168   \n",
       "809357                    344                344                344   \n",
       "809358                    168                210                168   \n",
       "809359                     44                 88                100   \n",
       "809360                    305                305                305   \n",
       "\n",
       "          Idle_Mean  Flow_IAT_Max  Fwd_PSH_Flags  Fwd_Avg_Bytes_Bulk  \\\n",
       "0       49700000.00      79000000              0                   0   \n",
       "1              0.00            58              0                   0   \n",
       "2              0.00         30200              0                   0   \n",
       "3              0.00        123916              0                   0   \n",
       "4              0.00      11049290              0                   0   \n",
       "...             ...           ...            ...                 ...   \n",
       "809356  22553695.33      26048320              0                   0   \n",
       "809357         0.00        137216              0                   0   \n",
       "809358  29688734.00      37133731              0                   0   \n",
       "809359         0.00           692              0                   0   \n",
       "809360         0.00        164986              0                   0   \n",
       "\n",
       "            Idle_Std  \n",
       "0       4.140000e+07  \n",
       "1       0.000000e+00  \n",
       "2       0.000000e+00  \n",
       "3       0.000000e+00  \n",
       "4       0.000000e+00  \n",
       "...              ...  \n",
       "809356  3.499753e+06  \n",
       "809357  0.000000e+00  \n",
       "809358  1.052882e+07  \n",
       "809359  0.000000e+00  \n",
       "809360  0.000000e+00  \n",
       "\n",
       "[809361 rows x 77 columns]"
      ]
     },
     "execution_count": 14,
     "metadata": {},
     "output_type": "execute_result"
    }
   ],
   "source": [
    "data[numerical]"
   ]
  },
  {
   "cell_type": "code",
   "execution_count": 15,
   "id": "ea81c723",
   "metadata": {},
   "outputs": [
    {
     "data": {
      "text/plain": [
       "(809361, 79)"
      ]
     },
     "execution_count": 15,
     "metadata": {},
     "output_type": "execute_result"
    }
   ],
   "source": [
    "new_data=pd.concat([df_nominal,df_ordinal,data[numerical]],axis=1)\n",
    "new_data.shape"
   ]
  },
  {
   "cell_type": "markdown",
   "id": "b4dab687",
   "metadata": {},
   "source": [
    "# Step 5: Standardizing the dataset"
   ]
  },
  {
   "cell_type": "code",
   "execution_count": 16,
   "id": "33467329",
   "metadata": {},
   "outputs": [],
   "source": [
    "# set input matrix and target column\n",
    "x_cols = [c for c in data.columns if c != 'Label']\n",
    "x_cols2= [c for c in new_data.columns]\n",
    "X = data[x_cols]\n",
    "y = data['Label']"
   ]
  },
  {
   "cell_type": "code",
   "execution_count": 17,
   "id": "7346226a",
   "metadata": {},
   "outputs": [],
   "source": [
    "X=new_data.to_numpy()"
   ]
  },
  {
   "cell_type": "code",
   "execution_count": 18,
   "id": "8f527bf3",
   "metadata": {},
   "outputs": [
    {
     "data": {
      "text/plain": [
       "array([ 0.00000000e+00,  1.00000000e+00,  0.00000000e+00,  2.00000000e+01,\n",
       "        0.00000000e+00,  4.00000000e+01,  0.00000000e+00,  7.90000000e+07,\n",
       "        4.84500000e+01,  1.84000000e+07,  0.00000000e+00,  0.00000000e+00,\n",
       "       -1.00000000e+00,  1.26468200e+06,  0.00000000e+00,  0.00000000e+00,\n",
       "        9.88447100e-03,  1.01168794e+08,  2.92000000e+04,  0.00000000e+00,\n",
       "        0.00000000e+00,  1.14164659e+02,  0.00000000e+00,  0.00000000e+00,\n",
       "        0.00000000e+00,  2.07573889e-01,  1.00000000e+00,  0.00000000e+00,\n",
       "        2.05000000e+07,  0.00000000e+00,  5.05843970e+06,  0.00000000e+00,\n",
       "        9.57805230e+00,  2.00000000e+00,  1.19083551e+02,  0.00000000e+00,\n",
       "        0.00000000e+00,  0.00000000e+00,  0.00000000e+00,  8.00000000e+01,\n",
       "        1.30335693e+04,  2.00000000e+00,  3.00000000e+00,  0.00000000e+00,\n",
       "        1.01000000e+08,  0.00000000e+00,  1.00000000e+00,  4.84500000e+01,\n",
       "        4.61428571e+01,  0.00000000e+00,  7.90000000e+07,  0.00000000e+00,\n",
       "        0.00000000e+00,  0.00000000e+00,  7.39228500e+05,  0.00000000e+00,\n",
       "        7.43103466e+05,  4.40454546e+01,  0.00000000e+00,  1.00000000e+00,\n",
       "        0.00000000e+00,  0.00000000e+00,  1.80000000e+07,  0.00000000e+00,\n",
       "        5.32369611e+06,  2.00000000e+01,  9.69000000e+02,  7.28000000e+02,\n",
       "        2.13775000e+05,  0.00000000e+00,  1.97689418e-01,  3.53000000e+02,\n",
       "        9.69000000e+02,  3.53000000e+02,  4.97000000e+07,  7.90000000e+07,\n",
       "        0.00000000e+00,  0.00000000e+00,  4.14000000e+07])"
      ]
     },
     "execution_count": 18,
     "metadata": {},
     "output_type": "execute_result"
    }
   ],
   "source": [
    "X[0]"
   ]
  },
  {
   "cell_type": "code",
   "execution_count": 19,
   "id": "eabe19bb",
   "metadata": {},
   "outputs": [],
   "source": [
    "X=StandardScaler().fit_transform(X)"
   ]
  },
  {
   "cell_type": "code",
   "execution_count": 20,
   "id": "1a6b1c38",
   "metadata": {},
   "outputs": [
    {
     "data": {
      "text/plain": [
       "array([-9.19101676e-01,  9.19101676e-01,  0.00000000e+00,  2.01311408e-02,\n",
       "       -1.74021030e-01,  3.73063922e-03, -4.59960676e-01,  2.40334688e+00,\n",
       "       -6.09452103e-03,  1.59825624e+00,  0.00000000e+00, -3.30276985e-01,\n",
       "       -3.17178725e-01,  6.12413133e-01, -1.50363405e-01, -4.33692669e-03,\n",
       "       -1.12373622e-01,  2.14160569e+00,  1.01857280e+00, -3.53325184e-01,\n",
       "       -4.05879306e-01,  1.49630887e-02, -1.20779767e-01, -3.70547215e-01,\n",
       "        4.55176286e-03, -7.21472692e-01,  1.08238486e+00,  0.00000000e+00,\n",
       "        3.68190006e-01, -6.39163643e-01,  4.89100470e-01, -2.17181969e-01,\n",
       "       -6.48067346e-01, -5.84993856e-02,  3.44684549e-01, -2.40910824e-01,\n",
       "        0.00000000e+00, -3.70547215e-01,  0.00000000e+00, -3.13659533e-01,\n",
       "       -1.85656577e-01, -1.03343892e-01, -2.54114316e-03, -3.03892094e-01,\n",
       "        2.20626751e+00,  0.00000000e+00, -6.00445430e-03, -6.09452103e-03,\n",
       "       -2.49174756e-01, -4.64564156e-02,  2.48921670e+00, -3.27908244e-01,\n",
       "       -1.25612557e-01, -3.61911677e-01,  4.66782295e-01, -4.25006181e-01,\n",
       "        9.19315893e-01, -2.02537363e-01,  0.00000000e+00, -6.00445430e-03,\n",
       "       -8.90209854e-02, -4.33692669e-03,  1.42710518e+00,  0.00000000e+00,\n",
       "        2.69704704e-01,  2.01311408e-02,  1.32981740e-01,  3.11894084e-03,\n",
       "        2.68840421e-02, -8.09246851e-03, -1.79938277e-01,  3.92497130e-01,\n",
       "        1.32981740e-01,  1.01609589e-02,  1.47778855e+00,  2.39292378e+00,\n",
       "       -1.73935450e-01,  0.00000000e+00,  5.54507241e+00])"
      ]
     },
     "execution_count": 20,
     "metadata": {},
     "output_type": "execute_result"
    }
   ],
   "source": [
    "X[0]"
   ]
  },
  {
   "cell_type": "code",
   "execution_count": 21,
   "id": "c8dfa5b4",
   "metadata": {},
   "outputs": [],
   "source": [
    "y=data[target]"
   ]
  },
  {
   "cell_type": "code",
   "execution_count": 22,
   "id": "1c0c2068",
   "metadata": {},
   "outputs": [],
   "source": [
    "y=y.to_numpy()"
   ]
  },
  {
   "cell_type": "code",
   "execution_count": 23,
   "id": "9aab1270",
   "metadata": {},
   "outputs": [
    {
     "data": {
      "text/plain": [
       "array([['DoS'],\n",
       "       ['BENIGN'],\n",
       "       ['BENIGN'],\n",
       "       ...,\n",
       "       ['DoS'],\n",
       "       ['BENIGN'],\n",
       "       ['DoS']], dtype=object)"
      ]
     },
     "execution_count": 23,
     "metadata": {},
     "output_type": "execute_result"
    }
   ],
   "source": [
    "y"
   ]
  },
  {
   "cell_type": "code",
   "execution_count": 24,
   "id": "c2e0b75c",
   "metadata": {
    "scrolled": true
   },
   "outputs": [
    {
     "name": "stderr",
     "output_type": "stream",
     "text": [
      "c:\\users\\michael owen\\appdata\\local\\programs\\python\\python36\\lib\\site-packages\\sklearn\\utils\\validation.py:63: DataConversionWarning: A column-vector y was passed when a 1d array was expected. Please change the shape of y to (n_samples, ), for example using ravel().\n",
      "  return f(*args, **kwargs)\n"
     ]
    }
   ],
   "source": [
    "y=categorical_convert.fit_transform(y)\n",
    "encoders[column] = categorical_convert"
   ]
  },
  {
   "cell_type": "code",
   "execution_count": 25,
   "id": "7ca25ee1",
   "metadata": {},
   "outputs": [
    {
     "data": {
      "text/plain": [
       "array([1, 0, 0, ..., 1, 0, 1])"
      ]
     },
     "execution_count": 25,
     "metadata": {},
     "output_type": "execute_result"
    }
   ],
   "source": [
    "y"
   ]
  },
  {
   "cell_type": "markdown",
   "id": "c9c5c252",
   "metadata": {},
   "source": [
    "# Step 6: Feature Engineering"
   ]
  },
  {
   "cell_type": "code",
   "execution_count": 26,
   "id": "4e4c202f",
   "metadata": {},
   "outputs": [],
   "source": [
    "pca=PCA(n_components=2)"
   ]
  },
  {
   "cell_type": "code",
   "execution_count": 27,
   "id": "42e56c95",
   "metadata": {},
   "outputs": [],
   "source": [
    "p_components=pca.fit_transform(X)"
   ]
  },
  {
   "cell_type": "code",
   "execution_count": 28,
   "id": "fd2701bf",
   "metadata": {},
   "outputs": [
    {
     "data": {
      "text/plain": [
       "array([[-6.2991014 ,  1.87856481],\n",
       "       [ 2.1592398 , -3.30069346],\n",
       "       [ 2.48911839, -1.63410266],\n",
       "       ...,\n",
       "       [-4.46395953,  0.38074172],\n",
       "       [ 3.20123475, -1.67298792],\n",
       "       [-0.08797942, -1.49656167]])"
      ]
     },
     "execution_count": 28,
     "metadata": {},
     "output_type": "execute_result"
    }
   ],
   "source": [
    "p_components"
   ]
  },
  {
   "cell_type": "code",
   "execution_count": 29,
   "id": "026980ca",
   "metadata": {},
   "outputs": [
    {
     "data": {
      "text/plain": [
       "array([0.17348344, 0.15744644])"
      ]
     },
     "execution_count": 29,
     "metadata": {},
     "output_type": "execute_result"
    }
   ],
   "source": [
    "pca.explained_variance_ratio_"
   ]
  },
  {
   "cell_type": "markdown",
   "id": "235786a6",
   "metadata": {},
   "source": [
    "# Step 7: New Dataset Ready for Training"
   ]
  },
  {
   "cell_type": "code",
   "execution_count": 30,
   "id": "88ee3942",
   "metadata": {},
   "outputs": [],
   "source": [
    "# data split train / test\n",
    "X_train, X_test, y_train, y_test = train_test_split(X, y, test_size = 0.3, random_state=1234)"
   ]
  },
  {
   "cell_type": "code",
   "execution_count": 31,
   "id": "ae606f5a",
   "metadata": {},
   "outputs": [
    {
     "name": "stdout",
     "output_type": "stream",
     "text": [
      "{'Destination_Port': 80.0, 'Flow_Duration': 3.0, 'Total_Fwd_Packets': 2.0, 'Total_Backward_Packets': 1.0, 'Total_Length_of_Fwd_Packets': 0.0, 'Total_Length_of_Bwd_Packets': 0.0, 'Fwd_Packet_Length_Max': 168.0, 'Fwd_Packet_Length_Min': 0.0, 'Fwd_Packet_Length_Mean': 0.0, 'Fwd_Packet_Length_Std': 0.0, 'Bwd_Packet_Length_Max': 0.0, 'Bwd_Packet_Length_Min': 0.0, 'Bwd_Packet_Length_Mean': 0.0, 'Bwd_Packet_Length_Std': 0.0, 'Flow_Bytes_Sec': 0.0, 'Flow_Packets_Sec': 219948.0, 'Flow_IAT_Mean': 3.0, 'Flow_IAT_Std': 0.0, 'Flow_IAT_Max': 3.0, 'Flow_IAT_Min': 3.0, 'Fwd_IAT_Total': 0.0, 'Fwd_IAT_Mean': 0.0, 'Fwd_IAT_Std': 0.0, 'Fwd_IAT_Max': 0.0, 'Fwd_IAT_Min': 3.0, 'Bwd_IAT_Total': 0.0, 'Bwd_IAT_Mean': 0.0, 'Bwd_IAT_Std': 0.0, 'Bwd_IAT_Max': 0.0, 'Bwd_IAT_Min': 0.0, 'Fwd_PSH_Flags': 0.0, 'Bwd_PSH_Flags': 0.0, 'Fwd_URG_Flags': 0.0, 'Bwd_URG_Flags': 0.0, 'Fwd_Header_Length': 40.0, 'Bwd_Header_Length': 40.0, 'Fwd_Packets_Sec': 666666.6667, 'Bwd_Packets_Sec': 0.0, 'Min_Packet_Length': 0.0, 'Max_Packet_Length': 168.0, 'Packet_Length_Mean': 0.0, 'Packet_Length_Std': 0.0, 'Packet_Length_Variance': 0.0, 'FIN_Flag_Count': 0.0, 'SYN_Flag_Count': 0.0, 'RST_Flag_Count': 0.0, 'PSH_Flag_Count': 0.0, 'ACK_Flag_Count': 0.0, 'URG_Flag_Count': 0.0, 'CWE_Flag_Count': 0.0, 'ECE_Flag_Count': 0.0, 'Down_Up_Ratio': 0.0, 'Average_Packet_Size': 0.0, 'Avg_Fwd_Segment_Size': 0.0, 'Avg_Bwd_Segment_Size': 0.0, 'Fwd_Avg_Bytes_Bulk': 0.0, 'Fwd_Avg_Packets_Bulk': 0.0, 'Fwd_Avg_Bulk_Rate': 0.0, 'Bwd_Avg_Bytes_Bulk': 0.0, 'Bwd_Avg_Packets_Bulk': 0.0, 'Bwd_Avg_Bulk_Rate': 0.0, 'Subflow_Fwd_Packets': 2.0, 'Subflow_Fwd_Bytes': 0.0, 'Subflow_Bwd_Packets': 1.0, 'Subflow_Bwd_Bytes': 0.0, 'Init_Win_bytes_forward': -1.0, 'Init_Win_bytes_backward': 29200.0, 'act_data_pkt_fwd': 1.0, 'min_seg_size_forward': 0.0, 'Active_Mean': 0.0, 'Active_Std': 0.0, 'Active_Max': 0.0, 'Active_Min': 0.0, 'Idle_Mean': 0.0, 'Idle_Std': 0.0, 'Idle_Max': 0.0, 'Idle_Min': 0.0}\n"
     ]
    }
   ],
   "source": [
    "X1 = data[x_cols]\n",
    "train_mode = dict(X1.mode().iloc[-1])\n",
    "print(train_mode)"
   ]
  },
  {
   "cell_type": "code",
   "execution_count": 32,
   "id": "9ba4f265",
   "metadata": {},
   "outputs": [
    {
     "data": {
      "text/html": [
       "<div>\n",
       "<style scoped>\n",
       "    .dataframe tbody tr th:only-of-type {\n",
       "        vertical-align: middle;\n",
       "    }\n",
       "\n",
       "    .dataframe tbody tr th {\n",
       "        vertical-align: top;\n",
       "    }\n",
       "\n",
       "    .dataframe thead th {\n",
       "        text-align: right;\n",
       "    }\n",
       "</style>\n",
       "<table border=\"1\" class=\"dataframe\">\n",
       "  <thead>\n",
       "    <tr style=\"text-align: right;\">\n",
       "      <th></th>\n",
       "      <th>Label_BENIGN</th>\n",
       "      <th>Label_DoS</th>\n",
       "      <th>CWE_Flag_Count</th>\n",
       "      <th>Total_Fwd_Packets</th>\n",
       "      <th>Bwd_IAT_Max</th>\n",
       "      <th>Bwd_Header_Length</th>\n",
       "      <th>Min_Packet_Length</th>\n",
       "      <th>Idle_Max</th>\n",
       "      <th>Fwd_Packet_Length_Mean</th>\n",
       "      <th>Fwd_IAT_Std</th>\n",
       "      <th>...</th>\n",
       "      <th>ECE_Flag_Count</th>\n",
       "      <th>Fwd_Packets_Sec</th>\n",
       "      <th>Fwd_Packet_Length_Max</th>\n",
       "      <th>Subflow_Fwd_Bytes</th>\n",
       "      <th>Max_Packet_Length</th>\n",
       "      <th>Idle_Mean</th>\n",
       "      <th>Flow_IAT_Max</th>\n",
       "      <th>Fwd_PSH_Flags</th>\n",
       "      <th>Fwd_Avg_Bytes_Bulk</th>\n",
       "      <th>Idle_Std</th>\n",
       "    </tr>\n",
       "  </thead>\n",
       "  <tbody>\n",
       "    <tr>\n",
       "      <th>0</th>\n",
       "      <td>0</td>\n",
       "      <td>1</td>\n",
       "      <td>0</td>\n",
       "      <td>20</td>\n",
       "      <td>0</td>\n",
       "      <td>40</td>\n",
       "      <td>0</td>\n",
       "      <td>79000000</td>\n",
       "      <td>48.45</td>\n",
       "      <td>18400000.0</td>\n",
       "      <td>...</td>\n",
       "      <td>0</td>\n",
       "      <td>0.197689</td>\n",
       "      <td>353</td>\n",
       "      <td>969</td>\n",
       "      <td>353</td>\n",
       "      <td>49700000.0</td>\n",
       "      <td>79000000</td>\n",
       "      <td>0</td>\n",
       "      <td>0</td>\n",
       "      <td>41400000.0</td>\n",
       "    </tr>\n",
       "    <tr>\n",
       "      <th>1</th>\n",
       "      <td>1</td>\n",
       "      <td>0</td>\n",
       "      <td>0</td>\n",
       "      <td>1</td>\n",
       "      <td>0</td>\n",
       "      <td>32</td>\n",
       "      <td>0</td>\n",
       "      <td>0</td>\n",
       "      <td>0.00</td>\n",
       "      <td>0.0</td>\n",
       "      <td>...</td>\n",
       "      <td>0</td>\n",
       "      <td>17241.379310</td>\n",
       "      <td>0</td>\n",
       "      <td>0</td>\n",
       "      <td>0</td>\n",
       "      <td>0.0</td>\n",
       "      <td>58</td>\n",
       "      <td>0</td>\n",
       "      <td>0</td>\n",
       "      <td>0.0</td>\n",
       "    </tr>\n",
       "  </tbody>\n",
       "</table>\n",
       "<p>2 rows × 79 columns</p>\n",
       "</div>"
      ],
      "text/plain": [
       "   Label_BENIGN  Label_DoS  CWE_Flag_Count  Total_Fwd_Packets  Bwd_IAT_Max  \\\n",
       "0             0          1               0                 20            0   \n",
       "1             1          0               0                  1            0   \n",
       "\n",
       "   Bwd_Header_Length  Min_Packet_Length  Idle_Max  Fwd_Packet_Length_Mean  \\\n",
       "0                 40                  0  79000000                   48.45   \n",
       "1                 32                  0         0                    0.00   \n",
       "\n",
       "   Fwd_IAT_Std  ...  ECE_Flag_Count  Fwd_Packets_Sec  Fwd_Packet_Length_Max  \\\n",
       "0   18400000.0  ...               0         0.197689                    353   \n",
       "1          0.0  ...               0     17241.379310                      0   \n",
       "\n",
       "   Subflow_Fwd_Bytes  Max_Packet_Length   Idle_Mean  Flow_IAT_Max  \\\n",
       "0                969                353  49700000.0      79000000   \n",
       "1                  0                  0         0.0            58   \n",
       "\n",
       "   Fwd_PSH_Flags  Fwd_Avg_Bytes_Bulk    Idle_Std  \n",
       "0              0                   0  41400000.0  \n",
       "1              0                   0         0.0  \n",
       "\n",
       "[2 rows x 79 columns]"
      ]
     },
     "execution_count": 32,
     "metadata": {},
     "output_type": "execute_result"
    }
   ],
   "source": [
    "new_data.head(2)"
   ]
  },
  {
   "cell_type": "code",
   "execution_count": 33,
   "id": "7a900983",
   "metadata": {},
   "outputs": [
    {
     "data": {
      "text/plain": [
       "{'Label_BENIGN': 1.0,\n",
       " 'Label_DoS': 0.0,\n",
       " 'CWE_Flag_Count': 0.0,\n",
       " 'Total_Fwd_Packets': 4.0,\n",
       " 'Bwd_IAT_Max': 1.0,\n",
       " 'Bwd_Header_Length': 40.0,\n",
       " 'Min_Packet_Length': 37.0,\n",
       " 'Idle_Max': 0.0,\n",
       " 'Fwd_Packet_Length_Mean': 37.0,\n",
       " 'Fwd_IAT_Std': 17434.82346,\n",
       " 'Bwd_URG_Flags': 0.0,\n",
       " 'RST_Flag_Count': 0.0,\n",
       " 'Init_Win_bytes_forward': -1.0,\n",
       " 'Active_Max': 0.0,\n",
       " 'Bwd_IAT_Std': 0.0,\n",
       " 'Subflow_Bwd_Bytes': 244.0,\n",
       " 'Bwd_Packets_Sec': 64.2137032,\n",
       " 'Flow_Duration': 31146.0,\n",
       " 'Init_Win_bytes_backward': -1.0,\n",
       " 'Fwd_Packet_Length_Min': 37.0,\n",
       " 'Bwd_Packet_Length_Min': 122.0,\n",
       " 'Packet_Length_Std': 41.4757531,\n",
       " 'FIN_Flag_Count': 0.0,\n",
       " 'Avg_Bwd_Segment_Size': 122.0,\n",
       " 'min_seg_size_forward': 20.0,\n",
       " 'Flow_Packets_Sec': 127126.0,\n",
       " 'SYN_Flag_Count': 0.0,\n",
       " 'Bwd_Avg_Bulk_Rate': 0.0,\n",
       " 'Idle_Min': 0.0,\n",
       " 'Down_Up_Ratio': 0.0,\n",
       " 'Flow_IAT_Mean': 6229.2,\n",
       " 'Bwd_IAT_Total': 1.0,\n",
       " 'Flow_Bytes_Sec': 36909.0,\n",
       " 'Flow_IAT_Min': 1.0,\n",
       " 'Fwd_Packet_Length_Std': 0.0,\n",
       " 'URG_Flag_Count': 0.0,\n",
       " 'Fwd_Avg_Bulk_Rate': 0.0,\n",
       " 'Bwd_Packet_Length_Mean': 122.0,\n",
       " 'Fwd_URG_Flags': 0.0,\n",
       " 'Destination_Port': 53.0,\n",
       " 'Packet_Length_Variance': 1720.238095,\n",
       " 'Fwd_IAT_Min': 1.0,\n",
       " 'act_data_pkt_fwd': 3.0,\n",
       " 'Bwd_Packet_Length_Std': 0.0,\n",
       " 'Fwd_IAT_Total': 30204.0,\n",
       " 'Fwd_Avg_Packets_Bulk': 0.0,\n",
       " 'Subflow_Bwd_Packets': 2.0,\n",
       " 'Avg_Fwd_Segment_Size': 37.0,\n",
       " 'Average_Packet_Size': 71.5,\n",
       " 'Bwd_PSH_Flags': 0.0,\n",
       " 'Fwd_IAT_Max': 30200.0,\n",
       " 'Bwd_Packet_Length_Max': 122.0,\n",
       " 'Bwd_IAT_Mean': 1.0,\n",
       " 'PSH_Flag_Count': 0.0,\n",
       " 'Active_Mean': 0.0,\n",
       " 'ACK_Flag_Count': 0.0,\n",
       " 'Active_Std': 0.0,\n",
       " 'Packet_Length_Mean': 61.28571429,\n",
       " 'Bwd_Avg_Bytes_Bulk': 0.0,\n",
       " 'Total_Backward_Packets': 2.0,\n",
       " 'Bwd_IAT_Min': 1.0,\n",
       " 'Total_Length_of_Bwd_Packets': 244.0,\n",
       " 'Flow_IAT_Std': 13406.25627,\n",
       " 'Bwd_Avg_Packets_Bulk': 0.0,\n",
       " 'Fwd_IAT_Mean': 10068.0,\n",
       " 'Subflow_Fwd_Packets': 4.0,\n",
       " 'Total_Length_of_Fwd_Packets': 148.0,\n",
       " 'Fwd_Header_Length': 80.0,\n",
       " 'Active_Min': 0.0,\n",
       " 'ECE_Flag_Count': 0.0,\n",
       " 'Fwd_Packets_Sec': 128.4274064,\n",
       " 'Fwd_Packet_Length_Max': 37.0,\n",
       " 'Subflow_Fwd_Bytes': 148.0,\n",
       " 'Max_Packet_Length': 122.0,\n",
       " 'Idle_Mean': 0.0,\n",
       " 'Flow_IAT_Max': 30200.0,\n",
       " 'Fwd_PSH_Flags': 0.0,\n",
       " 'Fwd_Avg_Bytes_Bulk': 0.0,\n",
       " 'Idle_Std': 0.0}"
      ]
     },
     "execution_count": 33,
     "metadata": {},
     "output_type": "execute_result"
    }
   ],
   "source": [
    "X2=new_data[x_cols2]\n",
    "dict(X2.loc[2])"
   ]
  },
  {
   "cell_type": "code",
   "execution_count": 34,
   "id": "33e8dbea",
   "metadata": {},
   "outputs": [
    {
     "data": {
      "text/plain": [
       "RandomForestClassifier()"
      ]
     },
     "execution_count": 34,
     "metadata": {},
     "output_type": "execute_result"
    }
   ],
   "source": [
    "# train the Random Forest algorithm\n",
    "rf = RandomForestClassifier(n_estimators = 100)\n",
    "rf.fit(X_train, y_train)"
   ]
  },
  {
   "cell_type": "code",
   "execution_count": 35,
   "id": "b37a3c5f",
   "metadata": {},
   "outputs": [
    {
     "data": {
      "text/plain": [
       "ExtraTreesClassifier()"
      ]
     },
     "execution_count": 35,
     "metadata": {},
     "output_type": "execute_result"
    }
   ],
   "source": [
    "# train the Extra Trees algorithm\n",
    "et = ExtraTreesClassifier(n_estimators = 100)\n",
    "et.fit(X_train, y_train)"
   ]
  },
  {
   "cell_type": "markdown",
   "id": "c749f15c",
   "metadata": {},
   "source": [
    "# Step 8: Testing the Dataset"
   ]
  },
  {
   "cell_type": "code",
   "execution_count": 36,
   "id": "a0ce8eb6",
   "metadata": {},
   "outputs": [],
   "source": [
    "rf_model = rf.predict(X_test)\n",
    "et_model = et.predict(X_test)"
   ]
  },
  {
   "cell_type": "markdown",
   "id": "37b1885b",
   "metadata": {},
   "source": [
    "# Step 9: Viewing the Model Metrics"
   ]
  },
  {
   "cell_type": "code",
   "execution_count": 37,
   "id": "8ea1e6d0",
   "metadata": {},
   "outputs": [
    {
     "name": "stdout",
     "output_type": "stream",
     "text": [
      "1.0\n"
     ]
    }
   ],
   "source": [
    "#Comparing the Accuracy scores of the 2 algorithms\n",
    "print(accuracy_score(rf_model, y_test))"
   ]
  },
  {
   "cell_type": "code",
   "execution_count": 38,
   "id": "7f37d4c6",
   "metadata": {},
   "outputs": [
    {
     "name": "stdout",
     "output_type": "stream",
     "text": [
      "1.0\n"
     ]
    }
   ],
   "source": [
    "#Comparing the Recall scores of the 2 algorithms\n",
    "print(recall_score(rf_model, y_test, average ='macro'))"
   ]
  },
  {
   "cell_type": "code",
   "execution_count": 39,
   "id": "79c75adf",
   "metadata": {},
   "outputs": [
    {
     "name": "stdout",
     "output_type": "stream",
     "text": [
      "1.0\n"
     ]
    }
   ],
   "source": [
    "#Comparing the Precision scores of the 2 algorithms\n",
    "print(precision_score(rf_model, y_test, average = 'macro'))"
   ]
  },
  {
   "cell_type": "code",
   "execution_count": 40,
   "id": "ac637e33",
   "metadata": {},
   "outputs": [
    {
     "name": "stdout",
     "output_type": "stream",
     "text": [
      "1.0\n"
     ]
    }
   ],
   "source": [
    "#Comparing the F1 Scores of the 2 algorithms\n",
    "print(f1_score(rf_model, y_test, average='macro'))"
   ]
  },
  {
   "cell_type": "markdown",
   "id": "b93cd8a1",
   "metadata": {},
   "source": [
    "# Step 10: Saving the Models as objects in Joblibs"
   ]
  },
  {
   "cell_type": "code",
   "execution_count": 41,
   "id": "d3707b1d",
   "metadata": {},
   "outputs": [
    {
     "data": {
      "text/plain": [
       "['./extra_trees.joblib']"
      ]
     },
     "execution_count": 41,
     "metadata": {},
     "output_type": "execute_result"
    }
   ],
   "source": [
    "# save preprocessing objects and RF algorithm\n",
    "joblib.dump(train_mode, \"./train_mode.joblib\", compress=True)\n",
    "joblib.dump(encoders, \"./encoders.joblib\", compress=True)\n",
    "joblib.dump(rf, \"./random_forest.joblib\", compress=True)\n",
    "joblib.dump(et, \"./extra_trees.joblib\", compress=True)"
   ]
  }
 ],
 "metadata": {
  "kernelspec": {
   "display_name": "Python 3",
   "language": "python",
   "name": "python3"
  },
  "language_info": {
   "codemirror_mode": {
    "name": "ipython",
    "version": 3
   },
   "file_extension": ".py",
   "mimetype": "text/x-python",
   "name": "python",
   "nbconvert_exporter": "python",
   "pygments_lexer": "ipython3",
   "version": "3.6.3"
  }
 },
 "nbformat": 4,
 "nbformat_minor": 5
}
