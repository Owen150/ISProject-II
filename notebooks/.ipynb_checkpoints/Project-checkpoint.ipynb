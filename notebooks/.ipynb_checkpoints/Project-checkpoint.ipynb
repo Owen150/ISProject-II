{
 "cells": [
  {
   "cell_type": "markdown",
   "id": "bf4ba19b",
   "metadata": {},
   "source": [
    "# Step 1: Loading all the Packages to be used"
   ]
  },
  {
   "cell_type": "code",
   "execution_count": 24,
   "id": "8a043e29",
   "metadata": {},
   "outputs": [],
   "source": [
    "import json #will be needed for saving preprocessing details\n",
    "import numpy as np # for data manipulation\n",
    "import pandas as pd # for data manipulation\n",
    "from sklearn.model_selection import train_test_split # will be used for data split\n",
    "from sklearn.preprocessing import LabelEncoder # for preprocessing\n",
    "from sklearn.ensemble import RandomForestClassifier # for training the algorithm\n",
    "from sklearn.ensemble import ExtraTreesClassifier # for training the algorithm\n",
    "import joblib # for saving algorithm and preprocessing objects\n",
    "from sklearn.preprocessing import StandardScaler\n",
    "from sklearn.decomposition import PCA\n",
    "from sklearn.metrics import accuracy_score\n",
    "from sklearn.metrics import precision_score\n",
    "from sklearn.metrics import recall_score\n",
    "from sklearn.metrics import f1_score\n",
    "from sklearn.model_selection import learning_curve"
   ]
  },
  {
   "cell_type": "markdown",
   "id": "6a541e68",
   "metadata": {},
   "source": [
    "# Step 2: Having a suitable real world dataset"
   ]
  },
  {
   "cell_type": "code",
   "execution_count": 23,
   "id": "76886e0a",
   "metadata": {
    "scrolled": true
   },
   "outputs": [
    {
     "data": {
      "text/html": [
       "<div>\n",
       "<style scoped>\n",
       "    .dataframe tbody tr th:only-of-type {\n",
       "        vertical-align: middle;\n",
       "    }\n",
       "\n",
       "    .dataframe tbody tr th {\n",
       "        vertical-align: top;\n",
       "    }\n",
       "\n",
       "    .dataframe thead th {\n",
       "        text-align: right;\n",
       "    }\n",
       "</style>\n",
       "<table border=\"1\" class=\"dataframe\">\n",
       "  <thead>\n",
       "    <tr style=\"text-align: right;\">\n",
       "      <th></th>\n",
       "      <th>Destination_Port</th>\n",
       "      <th>Flow_Duration</th>\n",
       "      <th>Total_Fwd_Packets</th>\n",
       "      <th>Total_Backward_Packets</th>\n",
       "      <th>Total_Length_of_Fwd_Packets</th>\n",
       "      <th>Total_Length_of_Bwd_Packets</th>\n",
       "      <th>Fwd_Packet_Length_Max</th>\n",
       "      <th>Fwd_Packet_Length_Min</th>\n",
       "      <th>Fwd_Packet_Length_Mean</th>\n",
       "      <th>Fwd_Packet_Length_Std</th>\n",
       "      <th>...</th>\n",
       "      <th>min_seg_size_forward</th>\n",
       "      <th>Active_Mean</th>\n",
       "      <th>Active_Std</th>\n",
       "      <th>Active_Max</th>\n",
       "      <th>Active_Min</th>\n",
       "      <th>Idle_Mean</th>\n",
       "      <th>Idle_Std</th>\n",
       "      <th>Idle_Max</th>\n",
       "      <th>Idle_Min</th>\n",
       "      <th>Label</th>\n",
       "    </tr>\n",
       "  </thead>\n",
       "  <tbody>\n",
       "    <tr>\n",
       "      <th>0</th>\n",
       "      <td>80</td>\n",
       "      <td>101168794</td>\n",
       "      <td>20</td>\n",
       "      <td>1</td>\n",
       "      <td>969</td>\n",
       "      <td>0</td>\n",
       "      <td>353</td>\n",
       "      <td>0</td>\n",
       "      <td>48.45</td>\n",
       "      <td>119.083551</td>\n",
       "      <td>...</td>\n",
       "      <td>0</td>\n",
       "      <td>739228.5</td>\n",
       "      <td>743103.4661</td>\n",
       "      <td>1264682</td>\n",
       "      <td>213775</td>\n",
       "      <td>49700000.0</td>\n",
       "      <td>41400000.0</td>\n",
       "      <td>79000000</td>\n",
       "      <td>20500000</td>\n",
       "      <td>DoS</td>\n",
       "    </tr>\n",
       "    <tr>\n",
       "      <th>1</th>\n",
       "      <td>60711</td>\n",
       "      <td>58</td>\n",
       "      <td>1</td>\n",
       "      <td>1</td>\n",
       "      <td>0</td>\n",
       "      <td>0</td>\n",
       "      <td>0</td>\n",
       "      <td>0</td>\n",
       "      <td>0.00</td>\n",
       "      <td>0.000000</td>\n",
       "      <td>...</td>\n",
       "      <td>32</td>\n",
       "      <td>0.0</td>\n",
       "      <td>0.0000</td>\n",
       "      <td>0</td>\n",
       "      <td>0</td>\n",
       "      <td>0.0</td>\n",
       "      <td>0.0</td>\n",
       "      <td>0</td>\n",
       "      <td>0</td>\n",
       "      <td>BENIGN</td>\n",
       "    </tr>\n",
       "    <tr>\n",
       "      <th>2</th>\n",
       "      <td>53</td>\n",
       "      <td>31146</td>\n",
       "      <td>4</td>\n",
       "      <td>2</td>\n",
       "      <td>148</td>\n",
       "      <td>244</td>\n",
       "      <td>37</td>\n",
       "      <td>37</td>\n",
       "      <td>37.00</td>\n",
       "      <td>0.000000</td>\n",
       "      <td>...</td>\n",
       "      <td>20</td>\n",
       "      <td>0.0</td>\n",
       "      <td>0.0000</td>\n",
       "      <td>0</td>\n",
       "      <td>0</td>\n",
       "      <td>0.0</td>\n",
       "      <td>0.0</td>\n",
       "      <td>0</td>\n",
       "      <td>0</td>\n",
       "      <td>BENIGN</td>\n",
       "    </tr>\n",
       "    <tr>\n",
       "      <th>3</th>\n",
       "      <td>80</td>\n",
       "      <td>254704</td>\n",
       "      <td>3</td>\n",
       "      <td>4</td>\n",
       "      <td>429</td>\n",
       "      <td>389</td>\n",
       "      <td>423</td>\n",
       "      <td>0</td>\n",
       "      <td>143.00</td>\n",
       "      <td>242.505670</td>\n",
       "      <td>...</td>\n",
       "      <td>20</td>\n",
       "      <td>0.0</td>\n",
       "      <td>0.0000</td>\n",
       "      <td>0</td>\n",
       "      <td>0</td>\n",
       "      <td>0.0</td>\n",
       "      <td>0.0</td>\n",
       "      <td>0</td>\n",
       "      <td>0</td>\n",
       "      <td>BENIGN</td>\n",
       "    </tr>\n",
       "  </tbody>\n",
       "</table>\n",
       "<p>4 rows × 78 columns</p>\n",
       "</div>"
      ],
      "text/plain": [
       "   Destination_Port  Flow_Duration  Total_Fwd_Packets  Total_Backward_Packets  \\\n",
       "0                80      101168794                 20                       1   \n",
       "1             60711             58                  1                       1   \n",
       "2                53          31146                  4                       2   \n",
       "3                80         254704                  3                       4   \n",
       "\n",
       "   Total_Length_of_Fwd_Packets  Total_Length_of_Bwd_Packets  \\\n",
       "0                          969                            0   \n",
       "1                            0                            0   \n",
       "2                          148                          244   \n",
       "3                          429                          389   \n",
       "\n",
       "   Fwd_Packet_Length_Max  Fwd_Packet_Length_Min  Fwd_Packet_Length_Mean  \\\n",
       "0                    353                      0                   48.45   \n",
       "1                      0                      0                    0.00   \n",
       "2                     37                     37                   37.00   \n",
       "3                    423                      0                  143.00   \n",
       "\n",
       "   Fwd_Packet_Length_Std  ...  min_seg_size_forward  Active_Mean   Active_Std  \\\n",
       "0             119.083551  ...                     0     739228.5  743103.4661   \n",
       "1               0.000000  ...                    32          0.0       0.0000   \n",
       "2               0.000000  ...                    20          0.0       0.0000   \n",
       "3             242.505670  ...                    20          0.0       0.0000   \n",
       "\n",
       "   Active_Max  Active_Min   Idle_Mean    Idle_Std  Idle_Max  Idle_Min   Label  \n",
       "0     1264682      213775  49700000.0  41400000.0  79000000  20500000     DoS  \n",
       "1           0           0         0.0         0.0         0         0  BENIGN  \n",
       "2           0           0         0.0         0.0         0         0  BENIGN  \n",
       "3           0           0         0.0         0.0         0         0  BENIGN  \n",
       "\n",
       "[4 rows x 78 columns]"
      ]
     },
     "execution_count": 23,
     "metadata": {},
     "output_type": "execute_result"
    }
   ],
   "source": [
    "data= pd.read_csv(r'C:\\Users\\Michael Owen\\OneDrive\\Desktop\\Datasets\\train_mosaic.csv')\n",
    "#Load dataset\n",
    "data.head(4)"
   ]
  },
  {
   "cell_type": "markdown",
   "id": "ee9ec68b",
   "metadata": {},
   "source": [
    "# Step 3: Data Preprocessing/Cleaning"
   ]
  },
  {
   "cell_type": "code",
   "execution_count": 25,
   "id": "6c4b56cf",
   "metadata": {},
   "outputs": [
    {
     "data": {
      "text/plain": [
       "(809361, 78)"
      ]
     },
     "execution_count": 25,
     "metadata": {},
     "output_type": "execute_result"
    }
   ],
   "source": [
    "data.shape"
   ]
  },
  {
   "cell_type": "code",
   "execution_count": 10,
   "id": "cd1ebcff",
   "metadata": {},
   "outputs": [
    {
     "data": {
      "text/plain": [
       "78"
      ]
     },
     "execution_count": 10,
     "metadata": {},
     "output_type": "execute_result"
    }
   ],
   "source": [
    "original_features=list(data.columns)\n",
    "len(original_features)"
   ]
  },
  {
   "cell_type": "code",
   "execution_count": 11,
   "id": "142b6206",
   "metadata": {},
   "outputs": [
    {
     "data": {
      "text/plain": [
       "0"
      ]
     },
     "execution_count": 11,
     "metadata": {},
     "output_type": "execute_result"
    }
   ],
   "source": [
    "features_missing_values=list(data.columns[data.isna().any()])\n",
    "len(features_missing_values)"
   ]
  },
  {
   "cell_type": "code",
   "execution_count": 26,
   "id": "5d2d4b79",
   "metadata": {},
   "outputs": [
    {
     "data": {
      "text/plain": [
       "809361"
      ]
     },
     "execution_count": 26,
     "metadata": {},
     "output_type": "execute_result"
    }
   ],
   "source": [
    "len(data)"
   ]
  },
  {
   "cell_type": "markdown",
   "id": "42c8b29c",
   "metadata": {},
   "source": [
    "# Step 4: Encoding the dataset"
   ]
  },
  {
   "cell_type": "code",
   "execution_count": 12,
   "id": "62e48650",
   "metadata": {},
   "outputs": [
    {
     "data": {
      "text/plain": [
       "['Label']"
      ]
     },
     "execution_count": 12,
     "metadata": {},
     "output_type": "execute_result"
    }
   ],
   "source": [
    "categorical_features=list(data.select_dtypes(include=['object']).columns)\n",
    "categorical_features"
   ]
  },
  {
   "cell_type": "code",
   "execution_count": 13,
   "id": "68924178",
   "metadata": {},
   "outputs": [
    {
     "data": {
      "text/plain": [
       "['Bwd_Packet_Length_Mean',\n",
       " 'URG_Flag_Count',\n",
       " 'Subflow_Bwd_Bytes',\n",
       " 'Init_Win_bytes_backward',\n",
       " 'Active_Min',\n",
       " 'Packet_Length_Variance',\n",
       " 'Idle_Std',\n",
       " 'Fwd_Avg_Bulk_Rate',\n",
       " 'min_seg_size_forward',\n",
       " 'Bwd_PSH_Flags',\n",
       " 'Fwd_IAT_Mean',\n",
       " 'Fwd_IAT_Total',\n",
       " 'Total_Length_of_Fwd_Packets',\n",
       " 'Flow_IAT_Mean',\n",
       " 'Packet_Length_Std',\n",
       " 'PSH_Flag_Count',\n",
       " 'Flow_IAT_Max',\n",
       " 'Fwd_PSH_Flags',\n",
       " 'Destination_Port',\n",
       " 'Average_Packet_Size',\n",
       " 'Max_Packet_Length',\n",
       " 'Packet_Length_Mean',\n",
       " 'Active_Std',\n",
       " 'Bwd_Avg_Packets_Bulk',\n",
       " 'Bwd_Packet_Length_Std',\n",
       " 'CWE_Flag_Count',\n",
       " 'Down_Up_Ratio',\n",
       " 'Fwd_IAT_Min',\n",
       " 'Bwd_Packets_Sec',\n",
       " 'Fwd_Packet_Length_Std',\n",
       " 'Active_Mean',\n",
       " 'Fwd_Header_Length',\n",
       " 'Flow_Duration',\n",
       " 'ECE_Flag_Count',\n",
       " 'Min_Packet_Length',\n",
       " 'Flow_Packets_Sec',\n",
       " 'Subflow_Fwd_Bytes',\n",
       " 'Flow_Bytes_Sec',\n",
       " 'Fwd_IAT_Std',\n",
       " 'Fwd_Packet_Length_Min',\n",
       " 'Active_Max',\n",
       " 'Avg_Fwd_Segment_Size',\n",
       " 'Bwd_Avg_Bulk_Rate',\n",
       " 'RST_Flag_Count',\n",
       " 'Bwd_Avg_Bytes_Bulk',\n",
       " 'Idle_Max',\n",
       " 'Fwd_IAT_Max',\n",
       " 'Init_Win_bytes_forward',\n",
       " 'Avg_Bwd_Segment_Size',\n",
       " 'Bwd_IAT_Max',\n",
       " 'ACK_Flag_Count',\n",
       " 'Flow_IAT_Std',\n",
       " 'Fwd_Avg_Bytes_Bulk',\n",
       " 'Idle_Min',\n",
       " 'Fwd_Packet_Length_Max',\n",
       " 'Flow_IAT_Min',\n",
       " 'SYN_Flag_Count',\n",
       " 'Subflow_Bwd_Packets',\n",
       " 'Fwd_Avg_Packets_Bulk',\n",
       " 'act_data_pkt_fwd',\n",
       " 'Fwd_Packet_Length_Mean',\n",
       " 'Bwd_Packet_Length_Max',\n",
       " 'Subflow_Fwd_Packets',\n",
       " 'Bwd_IAT_Mean',\n",
       " 'Fwd_URG_Flags',\n",
       " 'Total_Fwd_Packets',\n",
       " 'Total_Length_of_Bwd_Packets',\n",
       " 'Bwd_Header_Length',\n",
       " 'Bwd_IAT_Total',\n",
       " 'Fwd_Packets_Sec',\n",
       " 'Bwd_IAT_Std',\n",
       " 'Bwd_Packet_Length_Min',\n",
       " 'Total_Backward_Packets',\n",
       " 'FIN_Flag_Count',\n",
       " 'Bwd_IAT_Min',\n",
       " 'Bwd_URG_Flags',\n",
       " 'Idle_Mean']"
      ]
     },
     "execution_count": 13,
     "metadata": {},
     "output_type": "execute_result"
    }
   ],
   "source": [
    "numerical=list(set(original_features)-set(categorical_features))\n",
    "numerical"
   ]
  },
  {
   "cell_type": "code",
   "execution_count": 14,
   "id": "8c110238",
   "metadata": {},
   "outputs": [],
   "source": [
    "encoders = {}\n",
    "for column in ['Label']:\n",
    "    categorical_convert = LabelEncoder()"
   ]
  },
  {
   "cell_type": "code",
   "execution_count": 15,
   "id": "f600f00c",
   "metadata": {},
   "outputs": [],
   "source": [
    "nominal=['Label']\n",
    "ordinal=list(set(categorical_features)-set(nominal))"
   ]
  },
  {
   "cell_type": "code",
   "execution_count": 16,
   "id": "94644df3",
   "metadata": {},
   "outputs": [],
   "source": [
    "df_nominal=pd.get_dummies(data[nominal])"
   ]
  },
  {
   "cell_type": "code",
   "execution_count": 17,
   "id": "cce1f6a6",
   "metadata": {},
   "outputs": [],
   "source": [
    "target=['Label']"
   ]
  },
  {
   "cell_type": "code",
   "execution_count": 18,
   "id": "99f970b6",
   "metadata": {},
   "outputs": [],
   "source": [
    "for feature in ordinal:\n",
    "  data[feature]=data[feature].astype('category').cat.codes\n",
    "\n",
    "df_ordinal=data[ordinal]"
   ]
  },
  {
   "cell_type": "code",
   "execution_count": 19,
   "id": "1759534b",
   "metadata": {},
   "outputs": [
    {
     "data": {
      "text/html": [
       "<div>\n",
       "<style scoped>\n",
       "    .dataframe tbody tr th:only-of-type {\n",
       "        vertical-align: middle;\n",
       "    }\n",
       "\n",
       "    .dataframe tbody tr th {\n",
       "        vertical-align: top;\n",
       "    }\n",
       "\n",
       "    .dataframe thead th {\n",
       "        text-align: right;\n",
       "    }\n",
       "</style>\n",
       "<table border=\"1\" class=\"dataframe\">\n",
       "  <thead>\n",
       "    <tr style=\"text-align: right;\">\n",
       "      <th></th>\n",
       "      <th>Bwd_Packet_Length_Mean</th>\n",
       "      <th>URG_Flag_Count</th>\n",
       "      <th>Subflow_Bwd_Bytes</th>\n",
       "      <th>Init_Win_bytes_backward</th>\n",
       "      <th>Active_Min</th>\n",
       "      <th>Packet_Length_Variance</th>\n",
       "      <th>Idle_Std</th>\n",
       "      <th>Fwd_Avg_Bulk_Rate</th>\n",
       "      <th>min_seg_size_forward</th>\n",
       "      <th>Bwd_PSH_Flags</th>\n",
       "      <th>...</th>\n",
       "      <th>Bwd_Header_Length</th>\n",
       "      <th>Bwd_IAT_Total</th>\n",
       "      <th>Fwd_Packets_Sec</th>\n",
       "      <th>Bwd_IAT_Std</th>\n",
       "      <th>Bwd_Packet_Length_Min</th>\n",
       "      <th>Total_Backward_Packets</th>\n",
       "      <th>FIN_Flag_Count</th>\n",
       "      <th>Bwd_IAT_Min</th>\n",
       "      <th>Bwd_URG_Flags</th>\n",
       "      <th>Idle_Mean</th>\n",
       "    </tr>\n",
       "  </thead>\n",
       "  <tbody>\n",
       "    <tr>\n",
       "      <th>0</th>\n",
       "      <td>0.0000</td>\n",
       "      <td>0</td>\n",
       "      <td>0</td>\n",
       "      <td>29200</td>\n",
       "      <td>213775</td>\n",
       "      <td>13033.569260</td>\n",
       "      <td>4.140000e+07</td>\n",
       "      <td>0</td>\n",
       "      <td>0</td>\n",
       "      <td>0</td>\n",
       "      <td>...</td>\n",
       "      <td>40</td>\n",
       "      <td>0</td>\n",
       "      <td>0.197689</td>\n",
       "      <td>0.000000e+00</td>\n",
       "      <td>0</td>\n",
       "      <td>1</td>\n",
       "      <td>0</td>\n",
       "      <td>0</td>\n",
       "      <td>0</td>\n",
       "      <td>49700000.00</td>\n",
       "    </tr>\n",
       "    <tr>\n",
       "      <th>1</th>\n",
       "      <td>0.0000</td>\n",
       "      <td>1</td>\n",
       "      <td>0</td>\n",
       "      <td>33304</td>\n",
       "      <td>0</td>\n",
       "      <td>0.000000</td>\n",
       "      <td>0.000000e+00</td>\n",
       "      <td>0</td>\n",
       "      <td>32</td>\n",
       "      <td>0</td>\n",
       "      <td>...</td>\n",
       "      <td>32</td>\n",
       "      <td>0</td>\n",
       "      <td>17241.379310</td>\n",
       "      <td>0.000000e+00</td>\n",
       "      <td>0</td>\n",
       "      <td>1</td>\n",
       "      <td>0</td>\n",
       "      <td>0</td>\n",
       "      <td>0</td>\n",
       "      <td>0.00</td>\n",
       "    </tr>\n",
       "    <tr>\n",
       "      <th>2</th>\n",
       "      <td>122.0000</td>\n",
       "      <td>0</td>\n",
       "      <td>244</td>\n",
       "      <td>-1</td>\n",
       "      <td>0</td>\n",
       "      <td>1720.238095</td>\n",
       "      <td>0.000000e+00</td>\n",
       "      <td>0</td>\n",
       "      <td>20</td>\n",
       "      <td>0</td>\n",
       "      <td>...</td>\n",
       "      <td>40</td>\n",
       "      <td>1</td>\n",
       "      <td>128.427406</td>\n",
       "      <td>0.000000e+00</td>\n",
       "      <td>122</td>\n",
       "      <td>2</td>\n",
       "      <td>0</td>\n",
       "      <td>1</td>\n",
       "      <td>0</td>\n",
       "      <td>0.00</td>\n",
       "    </tr>\n",
       "    <tr>\n",
       "      <th>3</th>\n",
       "      <td>97.2500</td>\n",
       "      <td>0</td>\n",
       "      <td>389</td>\n",
       "      <td>237</td>\n",
       "      <td>0</td>\n",
       "      <td>33932.214290</td>\n",
       "      <td>0.000000e+00</td>\n",
       "      <td>0</td>\n",
       "      <td>20</td>\n",
       "      <td>0</td>\n",
       "      <td>...</td>\n",
       "      <td>88</td>\n",
       "      <td>130788</td>\n",
       "      <td>11.778378</td>\n",
       "      <td>7.520757e+04</td>\n",
       "      <td>0</td>\n",
       "      <td>4</td>\n",
       "      <td>0</td>\n",
       "      <td>4</td>\n",
       "      <td>0</td>\n",
       "      <td>0.00</td>\n",
       "    </tr>\n",
       "    <tr>\n",
       "      <th>4</th>\n",
       "      <td>981.4375</td>\n",
       "      <td>0</td>\n",
       "      <td>15703</td>\n",
       "      <td>100</td>\n",
       "      <td>0</td>\n",
       "      <td>584290.852200</td>\n",
       "      <td>0.000000e+00</td>\n",
       "      <td>0</td>\n",
       "      <td>20</td>\n",
       "      <td>0</td>\n",
       "      <td>...</td>\n",
       "      <td>332</td>\n",
       "      <td>11846006</td>\n",
       "      <td>1.005692</td>\n",
       "      <td>2.839742e+06</td>\n",
       "      <td>0</td>\n",
       "      <td>16</td>\n",
       "      <td>0</td>\n",
       "      <td>50</td>\n",
       "      <td>0</td>\n",
       "      <td>0.00</td>\n",
       "    </tr>\n",
       "    <tr>\n",
       "      <th>...</th>\n",
       "      <td>...</td>\n",
       "      <td>...</td>\n",
       "      <td>...</td>\n",
       "      <td>...</td>\n",
       "      <td>...</td>\n",
       "      <td>...</td>\n",
       "      <td>...</td>\n",
       "      <td>...</td>\n",
       "      <td>...</td>\n",
       "      <td>...</td>\n",
       "      <td>...</td>\n",
       "      <td>...</td>\n",
       "      <td>...</td>\n",
       "      <td>...</td>\n",
       "      <td>...</td>\n",
       "      <td>...</td>\n",
       "      <td>...</td>\n",
       "      <td>...</td>\n",
       "      <td>...</td>\n",
       "      <td>...</td>\n",
       "      <td>...</td>\n",
       "    </tr>\n",
       "    <tr>\n",
       "      <th>809356</th>\n",
       "      <td>0.0000</td>\n",
       "      <td>0</td>\n",
       "      <td>0</td>\n",
       "      <td>29200</td>\n",
       "      <td>3026</td>\n",
       "      <td>2238.628788</td>\n",
       "      <td>3.499753e+06</td>\n",
       "      <td>0</td>\n",
       "      <td>0</td>\n",
       "      <td>0</td>\n",
       "      <td>...</td>\n",
       "      <td>40</td>\n",
       "      <td>0</td>\n",
       "      <td>0.146720</td>\n",
       "      <td>0.000000e+00</td>\n",
       "      <td>0</td>\n",
       "      <td>1</td>\n",
       "      <td>0</td>\n",
       "      <td>0</td>\n",
       "      <td>0</td>\n",
       "      <td>22553695.33</td>\n",
       "    </tr>\n",
       "    <tr>\n",
       "      <th>809357</th>\n",
       "      <td>0.0000</td>\n",
       "      <td>0</td>\n",
       "      <td>0</td>\n",
       "      <td>29200</td>\n",
       "      <td>0</td>\n",
       "      <td>13148.444440</td>\n",
       "      <td>0.000000e+00</td>\n",
       "      <td>0</td>\n",
       "      <td>0</td>\n",
       "      <td>0</td>\n",
       "      <td>...</td>\n",
       "      <td>40</td>\n",
       "      <td>0</td>\n",
       "      <td>40.320723</td>\n",
       "      <td>0.000000e+00</td>\n",
       "      <td>0</td>\n",
       "      <td>1</td>\n",
       "      <td>0</td>\n",
       "      <td>0</td>\n",
       "      <td>0</td>\n",
       "      <td>0.00</td>\n",
       "    </tr>\n",
       "    <tr>\n",
       "      <th>809358</th>\n",
       "      <td>0.0000</td>\n",
       "      <td>0</td>\n",
       "      <td>0</td>\n",
       "      <td>29200</td>\n",
       "      <td>1423</td>\n",
       "      <td>2995.750000</td>\n",
       "      <td>1.052882e+07</td>\n",
       "      <td>0</td>\n",
       "      <td>0</td>\n",
       "      <td>0</td>\n",
       "      <td>...</td>\n",
       "      <td>40</td>\n",
       "      <td>0</td>\n",
       "      <td>0.113042</td>\n",
       "      <td>0.000000e+00</td>\n",
       "      <td>0</td>\n",
       "      <td>1</td>\n",
       "      <td>0</td>\n",
       "      <td>0</td>\n",
       "      <td>0</td>\n",
       "      <td>29688734.00</td>\n",
       "    </tr>\n",
       "    <tr>\n",
       "      <th>809359</th>\n",
       "      <td>100.0000</td>\n",
       "      <td>0</td>\n",
       "      <td>200</td>\n",
       "      <td>-1</td>\n",
       "      <td>0</td>\n",
       "      <td>940.800000</td>\n",
       "      <td>0.000000e+00</td>\n",
       "      <td>0</td>\n",
       "      <td>20</td>\n",
       "      <td>0</td>\n",
       "      <td>...</td>\n",
       "      <td>40</td>\n",
       "      <td>4</td>\n",
       "      <td>2688.172043</td>\n",
       "      <td>0.000000e+00</td>\n",
       "      <td>100</td>\n",
       "      <td>2</td>\n",
       "      <td>0</td>\n",
       "      <td>4</td>\n",
       "      <td>0</td>\n",
       "      <td>0.00</td>\n",
       "    </tr>\n",
       "    <tr>\n",
       "      <th>809360</th>\n",
       "      <td>0.0000</td>\n",
       "      <td>0</td>\n",
       "      <td>0</td>\n",
       "      <td>29200</td>\n",
       "      <td>0</td>\n",
       "      <td>7752.083333</td>\n",
       "      <td>0.000000e+00</td>\n",
       "      <td>0</td>\n",
       "      <td>0</td>\n",
       "      <td>0</td>\n",
       "      <td>...</td>\n",
       "      <td>40</td>\n",
       "      <td>0</td>\n",
       "      <td>50.775082</td>\n",
       "      <td>0.000000e+00</td>\n",
       "      <td>0</td>\n",
       "      <td>1</td>\n",
       "      <td>0</td>\n",
       "      <td>0</td>\n",
       "      <td>0</td>\n",
       "      <td>0.00</td>\n",
       "    </tr>\n",
       "  </tbody>\n",
       "</table>\n",
       "<p>809361 rows × 77 columns</p>\n",
       "</div>"
      ],
      "text/plain": [
       "        Bwd_Packet_Length_Mean  URG_Flag_Count  Subflow_Bwd_Bytes  \\\n",
       "0                       0.0000               0                  0   \n",
       "1                       0.0000               1                  0   \n",
       "2                     122.0000               0                244   \n",
       "3                      97.2500               0                389   \n",
       "4                     981.4375               0              15703   \n",
       "...                        ...             ...                ...   \n",
       "809356                  0.0000               0                  0   \n",
       "809357                  0.0000               0                  0   \n",
       "809358                  0.0000               0                  0   \n",
       "809359                100.0000               0                200   \n",
       "809360                  0.0000               0                  0   \n",
       "\n",
       "        Init_Win_bytes_backward  Active_Min  Packet_Length_Variance  \\\n",
       "0                         29200      213775            13033.569260   \n",
       "1                         33304           0                0.000000   \n",
       "2                            -1           0             1720.238095   \n",
       "3                           237           0            33932.214290   \n",
       "4                           100           0           584290.852200   \n",
       "...                         ...         ...                     ...   \n",
       "809356                    29200        3026             2238.628788   \n",
       "809357                    29200           0            13148.444440   \n",
       "809358                    29200        1423             2995.750000   \n",
       "809359                       -1           0              940.800000   \n",
       "809360                    29200           0             7752.083333   \n",
       "\n",
       "            Idle_Std  Fwd_Avg_Bulk_Rate  min_seg_size_forward  Bwd_PSH_Flags  \\\n",
       "0       4.140000e+07                  0                     0              0   \n",
       "1       0.000000e+00                  0                    32              0   \n",
       "2       0.000000e+00                  0                    20              0   \n",
       "3       0.000000e+00                  0                    20              0   \n",
       "4       0.000000e+00                  0                    20              0   \n",
       "...              ...                ...                   ...            ...   \n",
       "809356  3.499753e+06                  0                     0              0   \n",
       "809357  0.000000e+00                  0                     0              0   \n",
       "809358  1.052882e+07                  0                     0              0   \n",
       "809359  0.000000e+00                  0                    20              0   \n",
       "809360  0.000000e+00                  0                     0              0   \n",
       "\n",
       "        ...  Bwd_Header_Length  Bwd_IAT_Total  Fwd_Packets_Sec   Bwd_IAT_Std  \\\n",
       "0       ...                 40              0         0.197689  0.000000e+00   \n",
       "1       ...                 32              0     17241.379310  0.000000e+00   \n",
       "2       ...                 40              1       128.427406  0.000000e+00   \n",
       "3       ...                 88         130788        11.778378  7.520757e+04   \n",
       "4       ...                332       11846006         1.005692  2.839742e+06   \n",
       "...     ...                ...            ...              ...           ...   \n",
       "809356  ...                 40              0         0.146720  0.000000e+00   \n",
       "809357  ...                 40              0        40.320723  0.000000e+00   \n",
       "809358  ...                 40              0         0.113042  0.000000e+00   \n",
       "809359  ...                 40              4      2688.172043  0.000000e+00   \n",
       "809360  ...                 40              0        50.775082  0.000000e+00   \n",
       "\n",
       "        Bwd_Packet_Length_Min  Total_Backward_Packets  FIN_Flag_Count  \\\n",
       "0                           0                       1               0   \n",
       "1                           0                       1               0   \n",
       "2                         122                       2               0   \n",
       "3                           0                       4               0   \n",
       "4                           0                      16               0   \n",
       "...                       ...                     ...             ...   \n",
       "809356                      0                       1               0   \n",
       "809357                      0                       1               0   \n",
       "809358                      0                       1               0   \n",
       "809359                    100                       2               0   \n",
       "809360                      0                       1               0   \n",
       "\n",
       "        Bwd_IAT_Min  Bwd_URG_Flags    Idle_Mean  \n",
       "0                 0              0  49700000.00  \n",
       "1                 0              0         0.00  \n",
       "2                 1              0         0.00  \n",
       "3                 4              0         0.00  \n",
       "4                50              0         0.00  \n",
       "...             ...            ...          ...  \n",
       "809356            0              0  22553695.33  \n",
       "809357            0              0         0.00  \n",
       "809358            0              0  29688734.00  \n",
       "809359            4              0         0.00  \n",
       "809360            0              0         0.00  \n",
       "\n",
       "[809361 rows x 77 columns]"
      ]
     },
     "execution_count": 19,
     "metadata": {},
     "output_type": "execute_result"
    }
   ],
   "source": [
    "data[numerical]"
   ]
  },
  {
   "cell_type": "code",
   "execution_count": 20,
   "id": "ea81c723",
   "metadata": {},
   "outputs": [
    {
     "data": {
      "text/plain": [
       "(809361, 79)"
      ]
     },
     "execution_count": 20,
     "metadata": {},
     "output_type": "execute_result"
    }
   ],
   "source": [
    "new_data=pd.concat([df_nominal,df_ordinal,data[numerical]],axis=1)\n",
    "new_data.shape"
   ]
  },
  {
   "cell_type": "markdown",
   "id": "159cbe50",
   "metadata": {},
   "source": [
    "# Step 5: Standardize the dataset"
   ]
  },
  {
   "cell_type": "code",
   "execution_count": 27,
   "id": "7aa3b05a",
   "metadata": {},
   "outputs": [],
   "source": [
    "# set input matrix and target column\n",
    "x_cols = [c for c in data.columns if c != 'Label']\n",
    "x_cols2= [c for c in new_data.columns]\n",
    "X = data[x_cols]\n",
    "y = data['Label']"
   ]
  },
  {
   "cell_type": "code",
   "execution_count": 28,
   "id": "82a79fa8",
   "metadata": {},
   "outputs": [],
   "source": [
    "X=new_data.to_numpy()"
   ]
  },
  {
   "cell_type": "code",
   "execution_count": 29,
   "id": "1fe4fa9e",
   "metadata": {},
   "outputs": [
    {
     "data": {
      "text/plain": [
       "array([ 0.00000000e+00,  1.00000000e+00,  0.00000000e+00,  0.00000000e+00,\n",
       "        0.00000000e+00,  2.92000000e+04,  2.13775000e+05,  1.30335693e+04,\n",
       "        4.14000000e+07,  0.00000000e+00,  0.00000000e+00,  0.00000000e+00,\n",
       "        5.32369611e+06,  1.01000000e+08,  9.69000000e+02,  5.05843970e+06,\n",
       "        1.14164659e+02,  0.00000000e+00,  7.90000000e+07,  0.00000000e+00,\n",
       "        8.00000000e+01,  4.61428571e+01,  3.53000000e+02,  4.40454546e+01,\n",
       "        7.43103466e+05,  0.00000000e+00,  0.00000000e+00,  0.00000000e+00,\n",
       "        0.00000000e+00,  2.00000000e+00,  9.88447100e-03,  1.19083551e+02,\n",
       "        7.39228500e+05,  7.28000000e+02,  1.01168794e+08,  0.00000000e+00,\n",
       "        0.00000000e+00,  2.07573889e-01,  9.69000000e+02,  9.57805230e+00,\n",
       "        1.84000000e+07,  0.00000000e+00,  1.26468200e+06,  4.84500000e+01,\n",
       "        0.00000000e+00,  0.00000000e+00,  0.00000000e+00,  7.90000000e+07,\n",
       "        7.90000000e+07, -1.00000000e+00,  0.00000000e+00,  0.00000000e+00,\n",
       "        0.00000000e+00,  1.80000000e+07,  0.00000000e+00,  2.05000000e+07,\n",
       "        3.53000000e+02,  2.00000000e+00,  1.00000000e+00,  1.00000000e+00,\n",
       "        0.00000000e+00,  3.00000000e+00,  4.84500000e+01,  0.00000000e+00,\n",
       "        2.00000000e+01,  0.00000000e+00,  0.00000000e+00,  2.00000000e+01,\n",
       "        0.00000000e+00,  4.00000000e+01,  0.00000000e+00,  1.97689418e-01,\n",
       "        0.00000000e+00,  0.00000000e+00,  1.00000000e+00,  0.00000000e+00,\n",
       "        0.00000000e+00,  0.00000000e+00,  4.97000000e+07])"
      ]
     },
     "execution_count": 29,
     "metadata": {},
     "output_type": "execute_result"
    }
   ],
   "source": [
    "X[0]"
   ]
  },
  {
   "cell_type": "code",
   "execution_count": 30,
   "id": "038b8778",
   "metadata": {},
   "outputs": [],
   "source": [
    "X=StandardScaler().fit_transform(X)"
   ]
  },
  {
   "cell_type": "code",
   "execution_count": 31,
   "id": "bcf26b2d",
   "metadata": {},
   "outputs": [
    {
     "data": {
      "text/plain": [
       "array([-9.19101676e-01,  9.19101676e-01, -3.70547215e-01, -2.40910824e-01,\n",
       "       -4.33692669e-03,  1.01857280e+00,  2.68840421e-02, -1.85656577e-01,\n",
       "        5.54507241e+00,  0.00000000e+00,  4.55176286e-03, -4.64564156e-02,\n",
       "        2.69704704e-01,  2.20626751e+00,  1.32981740e-01,  4.89100470e-01,\n",
       "        1.49630887e-02, -3.61911677e-01,  2.39292378e+00, -1.73935450e-01,\n",
       "       -3.13659533e-01, -2.49174756e-01,  1.01609589e-02, -2.02537363e-01,\n",
       "        9.19315893e-01,  0.00000000e+00, -3.03892094e-01,  0.00000000e+00,\n",
       "       -6.39163643e-01, -1.03343892e-01, -1.12373622e-01,  3.44684549e-01,\n",
       "        4.66782295e-01,  3.11894084e-03,  2.14160569e+00, -8.09246851e-03,\n",
       "       -4.59960676e-01, -7.21472692e-01,  1.32981740e-01, -6.48067346e-01,\n",
       "        1.59825624e+00, -3.53325184e-01,  6.12413133e-01, -6.09452103e-03,\n",
       "        0.00000000e+00, -3.30276985e-01,  0.00000000e+00,  2.40334688e+00,\n",
       "        2.48921670e+00, -3.17178725e-01, -3.70547215e-01, -1.74021030e-01,\n",
       "       -4.25006181e-01,  1.42710518e+00,  0.00000000e+00,  3.68190006e-01,\n",
       "        3.92497130e-01, -5.84993856e-02,  1.08238486e+00, -6.00445430e-03,\n",
       "        0.00000000e+00, -2.54114316e-03, -6.09452103e-03, -3.27908244e-01,\n",
       "        2.01311408e-02, -1.25612557e-01,  0.00000000e+00,  2.01311408e-02,\n",
       "       -4.33692669e-03,  3.73063922e-03, -2.17181969e-01, -1.79938277e-01,\n",
       "       -1.50363405e-01, -4.05879306e-01, -6.00445430e-03, -1.20779767e-01,\n",
       "       -8.90209854e-02,  0.00000000e+00,  1.47778855e+00])"
      ]
     },
     "execution_count": 31,
     "metadata": {},
     "output_type": "execute_result"
    }
   ],
   "source": [
    "X[0]"
   ]
  },
  {
   "cell_type": "code",
   "execution_count": 32,
   "id": "fd2ed8d1",
   "metadata": {},
   "outputs": [],
   "source": [
    "y=data[target]"
   ]
  },
  {
   "cell_type": "code",
   "execution_count": 33,
   "id": "09097d09",
   "metadata": {},
   "outputs": [],
   "source": [
    "y=y.to_numpy()"
   ]
  },
  {
   "cell_type": "code",
   "execution_count": 34,
   "id": "ab36ec28",
   "metadata": {},
   "outputs": [
    {
     "data": {
      "text/plain": [
       "array([['DoS'],\n",
       "       ['BENIGN'],\n",
       "       ['BENIGN'],\n",
       "       ...,\n",
       "       ['DoS'],\n",
       "       ['BENIGN'],\n",
       "       ['DoS']], dtype=object)"
      ]
     },
     "execution_count": 34,
     "metadata": {},
     "output_type": "execute_result"
    }
   ],
   "source": [
    "y"
   ]
  },
  {
   "cell_type": "code",
   "execution_count": 35,
   "id": "a0cc129c",
   "metadata": {},
   "outputs": [
    {
     "name": "stderr",
     "output_type": "stream",
     "text": [
      "c:\\users\\michael owen\\appdata\\local\\programs\\python\\python36\\lib\\site-packages\\sklearn\\utils\\validation.py:63: DataConversionWarning: A column-vector y was passed when a 1d array was expected. Please change the shape of y to (n_samples, ), for example using ravel().\n",
      "  return f(*args, **kwargs)\n"
     ]
    }
   ],
   "source": [
    "y=categorical_convert.fit_transform(y)\n",
    "encoders[column] = categorical_convert"
   ]
  },
  {
   "cell_type": "code",
   "execution_count": 36,
   "id": "1e31b61d",
   "metadata": {},
   "outputs": [
    {
     "data": {
      "text/plain": [
       "array([1, 0, 0, ..., 1, 0, 1])"
      ]
     },
     "execution_count": 36,
     "metadata": {},
     "output_type": "execute_result"
    }
   ],
   "source": [
    "y"
   ]
  },
  {
   "cell_type": "markdown",
   "id": "8ccb4f7e",
   "metadata": {},
   "source": [
    "# Step 6: Feature Engineering"
   ]
  },
  {
   "cell_type": "code",
   "execution_count": null,
   "id": "94963ebd",
   "metadata": {},
   "outputs": [],
   "source": []
  }
 ],
 "metadata": {
  "kernelspec": {
   "display_name": "Python 3",
   "language": "python",
   "name": "python3"
  },
  "language_info": {
   "codemirror_mode": {
    "name": "ipython",
    "version": 3
   },
   "file_extension": ".py",
   "mimetype": "text/x-python",
   "name": "python",
   "nbconvert_exporter": "python",
   "pygments_lexer": "ipython3",
   "version": "3.6.3"
  }
 },
 "nbformat": 4,
 "nbformat_minor": 5
}
